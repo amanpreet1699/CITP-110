{
 "cells": [
  {
   "cell_type": "markdown",
   "id": "4139f304-45f3-406e-a915-205eaeb6c834",
   "metadata": {},
   "source": [
    "# Starting Out With Python 5th Edition\n",
    "# Programming Exercises"
   ]
  },
  {
   "cell_type": "markdown",
   "id": "a12f5752",
   "metadata": {},
   "source": [
    "6. File Analysis\n",
    "\n",
    "Write a program that reads the contents of two text files and compares them in the following\n",
    "ways:\n",
    "\n",
    "• It should display a list of all the unique words contained in both files.\n",
    "\n",
    "• It should display a list of the words that appear in both files.\n",
    "\n",
    "• It should display a list of the words that appear in the first file but not the second.\n",
    "\n",
    "• It should display a list of the words that appear in the second file but not the first.\n",
    "\n",
    "• It should display a list of the words that appear in either the first or second file, but not\n",
    "both.\n",
    "\n",
    "Hint: Use set operations to perform these analyses.\n"
   ]
  },
  {
   "cell_type": "code",
   "execution_count": null,
   "id": "d8a631ee",
   "metadata": {},
   "outputs": [],
   "source": [
    "# Creating function to write two different text files\n",
    "def filesWrite():\n",
    "    # Opening the file as writeable\n",
    "    fileWrite1 = open('file1.txt','w')\n",
    "    # Adding the text in every line\n",
    "    fileWrite1.write('what\\n')\n",
    "    fileWrite1.write('do\\n')\n",
    "    fileWrite1.write('you\\n')\n",
    "    fileWrite1.write('like\\n')\n",
    "    # Closing the file\n",
    "    fileWrite1.close()\n",
    "    \n",
    "    # Opening the 2nd file as writeable\n",
    "    fileWrite2 = open('file1.txt','w')\n",
    "    # Adding the text in every line\n",
    "    fileWrite2.write('what\\n')\n",
    "    fileWrite2.write('do\\n')\n",
    "    fileWrite2.write('you\\n')\n",
    "    fileWrite2.write('want\\n')\n",
    "    fileWrite2.write('to\\n')\n",
    "    fileWrite2.write('do\\n')\n",
    "    # Closing the file\n",
    "    fileWrite2.close()\n",
    "\n",
    "# Calling the function to have it run    \n",
    "filesWrite()\n",
    "  "
   ]
  }
 ],
 "metadata": {
  "kernelspec": {
   "display_name": "Python 3 (ipykernel)",
   "language": "python",
   "name": "python3"
  },
  "language_info": {
   "codemirror_mode": {
    "name": "ipython",
    "version": 3
   },
   "file_extension": ".py",
   "mimetype": "text/x-python",
   "name": "python",
   "nbconvert_exporter": "python",
   "pygments_lexer": "ipython3",
   "version": "3.11.5"
  }
 },
 "nbformat": 4,
 "nbformat_minor": 5
}
