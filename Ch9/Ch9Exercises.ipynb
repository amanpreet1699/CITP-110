{
 "cells": [
  {
   "cell_type": "markdown",
   "id": "4139f304-45f3-406e-a915-205eaeb6c834",
   "metadata": {},
   "source": [
    "# Starting Out With Python 5th Edition\n",
    "# Programming Exercises"
   ]
  },
  {
   "cell_type": "markdown",
   "id": "1046c147",
   "metadata": {},
   "source": [
    "6. File Analysis\n",
    "\n",
    "Write a program that reads the contents of two text files and compares them in the following\n",
    "ways:\n",
    "\n",
    "• It should display a list of all the unique words contained in both files.\n",
    "\n",
    "• It should display a list of the words that appear in both files.\n",
    "\n",
    "• It should display a list of the words that appear in the first file but not the second.\n",
    "\n",
    "• It should display a list of the words that appear in the second file but not the first.\n",
    "\n",
    "• It should display a list of the words that appear in either the first or second file, but not\n",
    "both.\n",
    "\n",
    "Hint: Use set operations to perform these analyses.\n"
   ]
  },
  {
   "cell_type": "code",
   "execution_count": 1,
   "id": "171444be",
   "metadata": {},
   "outputs": [],
   "source": [
    "# Creating function to write two different text files\n",
    "def filesWrite():\n",
    "    # Opening the file as writeable\n",
    "    fileWrite1 = open('file1.txt','w')\n",
    "    # Adding the text in every line\n",
    "    fileWrite1.write('what\\n')\n",
    "    fileWrite1.write('do\\n')\n",
    "    fileWrite1.write('you\\n')\n",
    "    fileWrite1.write('like\\n')\n",
    "    # Closing the file\n",
    "    fileWrite1.close()\n",
    "    \n",
    "    # Opening the 2nd file as writeable\n",
    "    fileWrite2 = open('file2.txt','w')\n",
    "    # Adding the text in every line\n",
    "    fileWrite2.write('what\\n')\n",
    "    fileWrite2.write('do\\n')\n",
    "    fileWrite2.write('you\\n')\n",
    "    fileWrite2.write('want\\n')\n",
    "    fileWrite2.write('to\\n')\n",
    "    fileWrite2.write('do\\n')\n",
    "    # Closing the file\n",
    "    fileWrite2.close()\n",
    "\n",
    "# Calling the function to have it run    \n",
    "filesWrite()\n"
   ]
  },
  {
   "cell_type": "code",
   "execution_count": null,
   "id": "9d60eec0",
   "metadata": {},
   "outputs": [],
   "source": [
    "# Defining the main function\n",
    "def main():\n",
    "    # Opening the file just created as read only\n",
    "    fileRead1 = open('file1.txt','r')\n",
    "    # Reading the first line\n",
    "    file1Content = fileRead1.readline()\n",
    "    # Creating empty list to append to later\n",
    "    file1List = []\n",
    "    # While loop that reads line until the string is empty      \n",
    "    while file1Content != '':\n",
    "        # Adding the content and stripping the \\n and making it an integer\n",
    "        file1List.append(file1Content.rstrip('\\n'))\n",
    "        # Reading the line\n",
    "        file1content = fileRead1.readline()\n",
    "    # Closing the file\n",
    "    fileRead1.close()\n",
    "    \n",
    "    # Opening the file just created as read only\n",
    "    fileRead2 = open('file2.txt','r')\n",
    "    # Reading the first line\n",
    "    file2Content = fileRead2.readline()\n",
    "    # Creating empty list to append to later\n",
    "    file2List = []\n",
    "    # While loop that reads line until the string is empty      \n",
    "    while file2Content != '':\n",
    "        # Adding the content and stripping the \\n and making it an integer\n",
    "        file2List.append(file2Content.rstrip('\\n'))\n",
    "        # Reading the line\n",
    "        file2content = fileRead2.readline()\n",
    "    # Closing the file\n",
    "    fileRead2.close()\n",
    "    \n",
    "\n"
   ]
  }
 ],
 "metadata": {
  "kernelspec": {
   "display_name": "Python 3 (ipykernel)",
   "language": "python",
   "name": "python3"
  },
  "language_info": {
   "codemirror_mode": {
    "name": "ipython",
    "version": 3
   },
   "file_extension": ".py",
   "mimetype": "text/x-python",
   "name": "python",
   "nbconvert_exporter": "python",
   "pygments_lexer": "ipython3",
   "version": "3.11.5"
  }
 },
 "nbformat": 4,
 "nbformat_minor": 5
}
