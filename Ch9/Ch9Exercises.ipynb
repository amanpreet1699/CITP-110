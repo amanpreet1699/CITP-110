{
 "cells": [
  {
   "cell_type": "markdown",
   "id": "4139f304-45f3-406e-a915-205eaeb6c834",
   "metadata": {},
   "source": [
    "# Starting Out With Python 5th Edition\n",
    "# Programming Exercises"
   ]
  },
  {
   "cell_type": "code",
   "execution_count": null,
   "id": "437f9a5f-5755-4ad4-9b31-ef93b4b8337f",
   "metadata": {},
   "outputs": [],
   "source": []
  }
 ],
 "metadata": {
  "kernelspec": {
   "display_name": "Python 3 (ipykernel)",
   "language": "python",
   "name": "python3"
  },
  "language_info": {
   "codemirror_mode": {
    "name": "ipython",
    "version": 3
   },
   "file_extension": ".py",
   "mimetype": "text/x-python",
   "name": "python",
   "nbconvert_exporter": "python",
   "pygments_lexer": "ipython3",
   "version": "3.11.5"
  }
 },
 "nbformat": 4,
 "nbformat_minor": 5
}
