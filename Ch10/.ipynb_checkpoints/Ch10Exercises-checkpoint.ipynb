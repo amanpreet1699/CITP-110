{
 "cells": [
  {
   "cell_type": "markdown",
   "id": "ed36dfe2",
   "metadata": {},
   "source": [
    "# Starting Out With Python 5th Edition\n",
    "# Programming Exercises"
   ]
  },
  {
   "cell_type": "markdown",
   "id": "16a8859a",
   "metadata": {},
   "source": [
    "1. Pet Class\n",
    "\n",
    "Write a class named Pet, which should have the following data attributes:\n",
    "\n",
    "• _ _name (for the name of a pet)\n",
    "\n",
    "• _ _animal_type (for the type of animal that a pet is. Example values are ‘Dog’, ‘Cat’,\n",
    "and ‘Bird’)\n",
    "\n",
    "• _ _age (for the pet’s age)\n",
    "\n",
    "The Pet class should have an _ _init_ _ method that creates these attributes. It should also\n",
    "have the following methods:\n",
    "\n",
    "• set_name\n",
    "This method assigns a value to the _ _name field.\n",
    "\n",
    "• set_animal_type\n",
    "This method assigns a value to the _ _animal_type field.\n",
    "\n",
    "• set_age\n",
    "This method assigns a value to the _ _age field.\n",
    "\n",
    "• get_name\n",
    "This method returns the value of the _ _ name field.\n",
    "\n",
    "• get_animal_type\n",
    "This method returns the value of the _ _animal_type field.\n",
    "\n",
    "• get_age\n",
    "This method returns the value of the _ _age field.\n",
    "\n",
    "Once you have written the class, write a program that creates an object of the class and prompts the user to enter the name, type, and age of his or her pet. This data should be stored as the object’s attributes. Use the object’s accessor methods to retrieve the pet’s name, type, and age and display this data on the screen."
   ]
  },
  {
   "cell_type": "code",
   "execution_count": 5,
   "id": "13e7fe85",
   "metadata": {},
   "outputs": [],
   "source": [
    "class pet:\n",
    "    def __init__(self, name, animal_type, age):\n",
    "        self.__name = name\n",
    "        self.__animal_type = animal_type\n",
    "        self.__age = age\n",
    "        \n",
    "    def set_name(self):\n",
    "        self.__name = ''\n",
    "        \n",
    "    def set_animal_type(self):\n",
    "        self.__animal_type = ''\n",
    "        \n",
    "    def set_age(self):\n",
    "        self.__age = ''\n",
    "        \n",
    "    def get_name(self):\n",
    "        return self.__name\n",
    "    \n",
    "    def get_animal_type(self):\n",
    "        return self.__animal_type\n",
    "    \n",
    "    def get_age(self):\n",
    "        return self.__age\n",
    "    \n",
    "    \n",
    "    "
   ]
  },
  {
   "cell_type": "code",
   "execution_count": 6,
   "id": "617bf479",
   "metadata": {},
   "outputs": [
    {
     "name": "stdout",
     "output_type": "stream",
     "text": [
      "What is the pet name?pr\n",
      "What is the animal type?pr\n",
      "What is the pet age?02\n"
     ]
    }
   ],
   "source": [
    "def main():\n",
    "    \n",
    "    my_name = input('What is the pet name?')\n",
    "    my_animal_type = input('What is the animal type?')\n",
    "    my_age = input('What is the pet age?')\n",
    "    # Creating a pet object\n",
    "    my_pet = pet(my_name,my_animal_type,my_age)\n",
    "    \n",
    "    print()\n",
    "    \n",
    "if __name__ == '__main__':\n",
    "    main()"
   ]
  },
  {
   "cell_type": "code",
   "execution_count": null,
   "id": "c33f718d",
   "metadata": {},
   "outputs": [],
   "source": []
  }
 ],
 "metadata": {
  "kernelspec": {
   "display_name": "Python 3 (ipykernel)",
   "language": "python",
   "name": "python3"
  },
  "language_info": {
   "codemirror_mode": {
    "name": "ipython",
    "version": 3
   },
   "file_extension": ".py",
   "mimetype": "text/x-python",
   "name": "python",
   "nbconvert_exporter": "python",
   "pygments_lexer": "ipython3",
   "version": "3.11.5"
  }
 },
 "nbformat": 4,
 "nbformat_minor": 5
}
