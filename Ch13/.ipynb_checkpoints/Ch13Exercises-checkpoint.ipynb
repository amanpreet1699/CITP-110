{
 "cells": [
  {
   "cell_type": "markdown",
   "id": "a0303887",
   "metadata": {},
   "source": [
    "# Starting Out With Python 5th Edition\n",
    "# Programming Exercises\n",
    "\n",
    "\n",
    "### 4. Celsius to Fahrenheit\n",
    "\n",
    "Write a GUI program that converts Celsius temperatures to Fahrenheit temperatures. The\n",
    "user should be able to enter a Celsius temperature, click a button, then see the equivalent\n",
    "Fahrenheit temperature. Use the following formula to make the conversion:\n",
    "\n",
    "F = (9/5)C + 32\n",
    "\n",
    "F is the Fahrenheit temperature, and C is the Celsius temperature.\n",
    "\n",
    "At a high level, we first inmport the tkinter GUI. Then we define the class to convert from celsius to fahrenheit. First we create the main window with two frames, top and bottom. The top frame needs label text and a place to add the entry input. Then the bottom frame needs two buttons, one to convert and the other to quit. Finally, we need a function to convert from celsius to fahrenheit that will be called. "
   ]
  },
  {
   "cell_type": "code",
   "execution_count": 5,
   "id": "f2654898",
   "metadata": {},
   "outputs": [],
   "source": [
    "# Importing the tkinter GUI\n",
    "import tkinter\n",
    "import tkinter.messagebox\n",
    "\n",
    "# Defining the class\n",
    "class cToF:\n",
    "    # Defining the __init__ method\n",
    "    def __init__(self): \n",
    "        \n",
    "        # Creating the main window\n",
    "        self.main_window = tkinter.Tk()\n",
    "        # Creating the two frames for widgets\n",
    "        self.top_frame = tkinter.Frame(self.main_window)\n",
    "        self.bottom_frame = tkinter.Frame(self.main_window)\n",
    "        # Creating the text for entry prompt\n",
    "        self.prompt_label = tkinter.Label(self.top_frame, text = 'Enter the temperature in Celsius: ')\n",
    "        # Creating the entry widget for text entry\n",
    "        self.celsius_entry = tkinter.Entry(self.top_frame, width = 10 )\n",
    "        # Packing the widgets next to each other\n",
    "        self.prompt_label.pack(side='left')\n",
    "        self.celsius_entry.pack(side = 'left')\n",
    "        # Creating the two buttons for calc and quit\n",
    "        self.calc_button = tkinter.Button(self.bottom_frame, text = 'Convert', command= self.convert)\n",
    "        self.quit_button = tkinter.Button(self.bottom_frame, text = 'Quit', command= self.main_window.destroy)\n",
    "        # Packing the buttons\n",
    "        self.calc_button.pack(side='left')\n",
    "        self.quit_button.pack(side='left')\n",
    "        # Packing the frames\n",
    "        self.top_frame.pack()\n",
    "        self.bottom_frame.pack()\n",
    "        # Entering the main loop\n",
    "        tkinter.mainloop()\n",
    "        \n",
    "    # Defining the convert function\n",
    "    def convert(self):\n",
    "        # Getting the value input by user into celsius\n",
    "        celsius = float(self.celsius_entry.get())\n",
    "        # Converting celsius to fahrenheit\n",
    "        fahrenheit = ((9/5) * celsius) + 32\n",
    "        # Display results in dialog box\n",
    "        tkinter.messagebox.showinfo(f'{celsius} Celsius is equal to {fahrenheit} Fahrenheit')\n",
    "        \n",
    "# Call function\n",
    "if __name__ == '__main__':\n",
    "    celsius_conv = cToF()\n",
    "        \n",
    "\n",
    "    \n",
    "        \n",
    "        "
   ]
  },
  {
   "cell_type": "code",
   "execution_count": null,
   "id": "1ac88c05",
   "metadata": {},
   "outputs": [],
   "source": []
  }
 ],
 "metadata": {
  "kernelspec": {
   "display_name": "Python 3 (ipykernel)",
   "language": "python",
   "name": "python3"
  },
  "language_info": {
   "codemirror_mode": {
    "name": "ipython",
    "version": 3
   },
   "file_extension": ".py",
   "mimetype": "text/x-python",
   "name": "python",
   "nbconvert_exporter": "python",
   "pygments_lexer": "ipython3",
   "version": "3.11.5"
  }
 },
 "nbformat": 4,
 "nbformat_minor": 5
}
