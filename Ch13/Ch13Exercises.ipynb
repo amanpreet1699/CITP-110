{
 "cells": [
  {
   "cell_type": "markdown",
   "id": "a0303887",
   "metadata": {},
   "source": [
    "# Starting Out With Python 5th Edition\n",
    "# Programming Exercises\n",
    "\n",
    "\n",
    "### 4. Celsius to Fahrenheit\n",
    "\n",
    "Write a GUI program that converts Celsius temperatures to Fahrenheit temperatures. The\n",
    "user should be able to enter a Celsius temperature, click a button, then see the equivalent\n",
    "Fahrenheit temperature. Use the following formula to make the conversion:\n",
    "\n",
    "F = (9/5)C + 32\n",
    "\n",
    "F is the Fahrenheit temperature, and C is the Celsius temperature."
   ]
  },
  {
   "cell_type": "code",
   "execution_count": 5,
   "id": "f2654898",
   "metadata": {},
   "outputs": [],
   "source": [
    "import tkinter\n",
    "import tkinter.messagebox\n",
    "\n",
    "class cToF:\n",
    "    def __init__(self): \n",
    "        \n",
    "        self.main_window = tkinter.Tk()\n",
    "        \n",
    "        self.top_frame = tkinter.Frame(self.main_window)\n",
    "        self.bottom_frame = tkinter.Frame(self.main_window)\n",
    "        \n",
    "        self.prompt_label = tkinter.Label(self.top_frame, text = 'Enter the temperature in Celsius: ')\n",
    "        self.celsius_entry = tkinter.Entry(self.top_frame, width = 10 )\n",
    "        \n",
    "        self.prompt_label.pack(side='left')\n",
    "        self.celsius_entry.pack(side = 'left')\n",
    "        \n",
    "        self.calc_button = tkinter.Button(self.bottom_frame, text = 'Convert', command= self.convert)\n",
    "        self.quit_button = tkinter.Button(self.bottom_frame, text = 'Quit', command= self.main_window.destroy)\n",
    "        \n",
    "        self.calc_button.pack(side='left')\n",
    "        self.quit_button.pack(side='left')\n",
    "        \n",
    "        self.top_frame.pack()\n",
    "        self.bottom_frame.pack()\n",
    "        \n",
    "        tkinter.mainloop()\n",
    "        \n",
    "        \n",
    "    def convert(self):\n",
    "        celsius = float(self.celsius_entry.get())\n",
    "        \n",
    "        fahrenheit = ((9/5) * celsius) + 32\n",
    "        \n",
    "        tkinter.messagebox.showinfo(f'{celsius} Celsius is equal to {fahrenheit} Fahrenheit')\n",
    "        \n",
    "\n",
    "if __name__ == '__main__':\n",
    "    celsius_conv = cToF()\n",
    "        \n",
    "\n",
    "    \n",
    "        \n",
    "        "
   ]
  },
  {
   "cell_type": "code",
   "execution_count": null,
   "id": "1ac88c05",
   "metadata": {},
   "outputs": [],
   "source": []
  }
 ],
 "metadata": {
  "kernelspec": {
   "display_name": "Python 3 (ipykernel)",
   "language": "python",
   "name": "python3"
  },
  "language_info": {
   "codemirror_mode": {
    "name": "ipython",
    "version": 3
   },
   "file_extension": ".py",
   "mimetype": "text/x-python",
   "name": "python",
   "nbconvert_exporter": "python",
   "pygments_lexer": "ipython3",
   "version": "3.11.5"
  }
 },
 "nbformat": 4,
 "nbformat_minor": 5
}
