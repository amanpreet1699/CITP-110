{
 "cells": [
  {
   "cell_type": "markdown",
   "id": "a795d10c",
   "metadata": {},
   "source": [
    "# Starting Out With Python 5th Edition\n",
    "# Programming Exercises\n",
    "\n",
    "1. Employee and ProductionWorker Classes\n",
    "\n",
    "Write an Employee class that keeps data attributes for the following pieces of information:\n",
    "\n",
    "• Employee name\n",
    "\n",
    "• Employee number\n",
    "\n",
    "Next, write a class named ProductionWorker that is a subclass of the Employee class.\n",
    "\n",
    "The ProductionWorker class should keep data attributes for the following information:\n",
    "\n",
    "• Shift number (an integer, such as 1, 2, or 3)\n",
    "\n",
    "• Hourly pay rate\n",
    "\n",
    "The workday is divided into two shifts: day and night. The shift attribute will hold an\n",
    "integer value representing the shift that the employee works. The day shift is shift 1 and the\n",
    "night shift is shift 2. Write the appropriate accessor and mutator methods for each class.\n",
    "\n",
    "Once you have written the classes, write a program that creates an object of the\n",
    "ProductionWorker class and prompts the user to enter data for each of the object’s data\n",
    "attributes. Store the data in the object, then use the object’s accessor methods to retrieve it\n",
    "and display it on the screen."
   ]
  },
  {
   "cell_type": "code",
   "execution_count": 1,
   "id": "eb21f45e",
   "metadata": {},
   "outputs": [
    {
     "name": "stdout",
     "output_type": "stream",
     "text": [
      "What is the employee name? aman\n",
      "What is the employee number? 12\n",
      "What is the shift number? 1 or 2? 1\n",
      "What is the employee hourly pay rate? 35\n",
      "aman\n",
      "12\n",
      "1\n",
      "35\n"
     ]
    }
   ],
   "source": [
    "import ProductionWorkerFile\n",
    "\n",
    "def main():\n",
    "    employeeNameInput = input('What is the employee name? ')\n",
    "    employeeNumberInput = input('What is the employee number? ')\n",
    "    shiftNumberInput = int(input('What is the shift number? 1 or 2? '))\n",
    "    hourlyRateInput = input('What is the employee hourly pay rate? ')\n",
    "    \n",
    "    ProductionWorker1 = ProductionWorkerFile.ProductionWorker(employeeNameInput, employeeNumberInput, shiftNumberInput, hourlyRateInput )\n",
    "    \n",
    "    print(ProductionWorker1.get_employeeName())\n",
    "    print(ProductionWorker1.get_employeeNumber())\n",
    "    print(ProductionWorker1.get_shiftNumber())\n",
    "    print(ProductionWorker1.get_hourlyRate())\n",
    "\n",
    "\n",
    "main()\n",
    "    "
   ]
  },
  {
   "cell_type": "markdown",
   "id": "bb8bfaad",
   "metadata": {},
   "source": [
    "2. ShiftSupervisor Class\n",
    "\n",
    "In a particular factory, a shift supervisor is a salaried employee who supervises a shift. In\n",
    "addition to a salary, the shift supervisor earns a yearly bonus when his or her shift meets\n",
    "production goals. Write a ShiftSupervisor class that is a subclass of the Employee class\n",
    "you created in Programming Exercise 1. The ShiftSupervisor class should keep a data\n",
    "attribute for the annual salary, and a data attribute for the annual production bonus that\n",
    "a shift supervisor has earned. Demonstrate the class by writing a program that uses a\n",
    "ShiftSupervisor object."
   ]
  },
  {
   "cell_type": "code",
   "execution_count": 4,
   "id": "6d291e99",
   "metadata": {},
   "outputs": [
    {
     "name": "stdout",
     "output_type": "stream",
     "text": [
      "What is the employee name? Aman\n",
      "What is the employee number? 12\n",
      "What is the annual salary? 72000\n",
      "What is the annual production bonus? 2000\n",
      "Aman\n",
      "12\n",
      "72000\n",
      "2000\n"
     ]
    }
   ],
   "source": [
    "import ShiftSupervisorFile\n",
    "\n",
    "def main():\n",
    "    employeeNameInput = input('What is the employee name? ')\n",
    "    employeeNumberInput = input('What is the employee number? ')\n",
    "    annualSalaryInput = int(input('What is the annual salary? '))\n",
    "    annualProdBonusInput = input('What is the annual production bonus? ')\n",
    "    \n",
    "    ShiftSupervisor1 = ShiftSupervisorFile.ShiftSupervisor(employeeNameInput, employeeNumberInput, annualSalaryInput, annualProdBonusInput )\n",
    "    \n",
    "    print(ShiftSupervisor1.get_employeeName())\n",
    "    print(ShiftSupervisor1.get_employeeNumber())\n",
    "    print(ShiftSupervisor1.get_annualSalary())\n",
    "    print(ShiftSupervisor1.get_annualProdBonus())\n",
    "\n",
    "\n",
    "main()\n",
    "    "
   ]
  },
  {
   "cell_type": "code",
   "execution_count": null,
   "id": "c00f89ad",
   "metadata": {},
   "outputs": [],
   "source": []
  }
 ],
 "metadata": {
  "kernelspec": {
   "display_name": "Python 3 (ipykernel)",
   "language": "python",
   "name": "python3"
  },
  "language_info": {
   "codemirror_mode": {
    "name": "ipython",
    "version": 3
   },
   "file_extension": ".py",
   "mimetype": "text/x-python",
   "name": "python",
   "nbconvert_exporter": "python",
   "pygments_lexer": "ipython3",
   "version": "3.11.5"
  }
 },
 "nbformat": 4,
 "nbformat_minor": 5
}
