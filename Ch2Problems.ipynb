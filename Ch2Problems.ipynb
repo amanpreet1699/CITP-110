{
 "cells": [
  {
   "cell_type": "markdown",
   "id": "52c44b89",
   "metadata": {},
   "source": [
    "# Week 2 Code Set 2"
   ]
  },
  {
   "cell_type": "markdown",
   "id": "74fbac19",
   "metadata": {},
   "source": [
    "## Algorithm Workbench # 5"
   ]
  },
  {
   "cell_type": "code",
   "execution_count": 2,
   "id": "b4a0ef4e",
   "metadata": {},
   "outputs": [
    {
     "name": "stdout",
     "output_type": "stream",
     "text": [
      "24\n"
     ]
    }
   ],
   "source": [
    "# Writing a Python Statement that assigns the sum of 10 and 14 to the variable \"total\". \n",
    "total = 10 + 14;\n",
    "# Then using the print command to see the total\n",
    "print(total)"
   ]
  },
  {
   "cell_type": "code",
   "execution_count": null,
   "id": "2918656d",
   "metadata": {},
   "outputs": [],
   "source": []
  }
 ],
 "metadata": {
  "kernelspec": {
   "display_name": "Python 3 (ipykernel)",
   "language": "python",
   "name": "python3"
  },
  "language_info": {
   "codemirror_mode": {
    "name": "ipython",
    "version": 3
   },
   "file_extension": ".py",
   "mimetype": "text/x-python",
   "name": "python",
   "nbconvert_exporter": "python",
   "pygments_lexer": "ipython3",
   "version": "3.11.5"
  }
 },
 "nbformat": 4,
 "nbformat_minor": 5
}
