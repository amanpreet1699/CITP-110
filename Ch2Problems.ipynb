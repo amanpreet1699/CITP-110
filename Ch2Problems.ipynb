{
 "cells": [
  {
   "cell_type": "markdown",
   "id": "a3d6ad4f",
   "metadata": {},
   "source": [
    "# Week 2 Code Set 2"
   ]
  },
  {
   "cell_type": "markdown",
   "id": "53272453",
   "metadata": {},
   "source": [
    "## Algorithm Workbench # 5\n",
    "Write a Python statement that assigns the sum of 10 and 14 to the variable total."
   ]
  },
  {
   "cell_type": "code",
   "execution_count": 2,
   "id": "9026c49a",
   "metadata": {},
   "outputs": [
    {
     "name": "stdout",
     "output_type": "stream",
     "text": [
      "24\n"
     ]
    }
   ],
   "source": [
    "# Writing a Python Statement that assigns the sum of 10 and 14 to the variable \"total\". \n",
    "total = 10 + 14;\n",
    "# Then using the print command to see the total\n",
    "print(total)"
   ]
  },
  {
   "cell_type": "markdown",
   "id": "0aebd14d",
   "metadata": {},
   "source": [
    "## Programming Exercises # 2\n",
    "A company has determined that its annual profit is typically 23 percent of total sales. Write\n",
    "a program that asks the user to enter the projected amount of total sales, then displays the\n",
    "profit that will be made from that amount."
   ]
  },
  {
   "cell_type": "code",
   "execution_count": 9,
   "id": "127b1d49",
   "metadata": {},
   "outputs": [
    {
     "name": "stdout",
     "output_type": "stream",
     "text": [
      "What is the Projected Amount of Total Sales this Year? ($) 150\n",
      "Your Total Profit for This Year is $34.50\n"
     ]
    }
   ],
   "source": [
    "# Using the input command to request user to enter the projected amount of total sales and \n",
    "# putting the result into totalSales variable\n",
    "totalSales = input('What is the Projected Amount of Total Sales this Year? ($) ')\n",
    "\n",
    "# Converting string to floating for totalSales\n",
    "floatTotalSales = float(totalSales)\n",
    "\n",
    "# Making the final variable that will give the profit\n",
    "annualProfit = (floatTotalSales * .23)\n",
    "\n",
    "# Printing the final profit amount\n",
    "print(f'Your Total Profit for This Year is ${annualProfit:.2f}')\n"
   ]
  },
  {
   "cell_type": "markdown",
   "id": "16bb16da",
   "metadata": {},
   "source": [
    "## Programming Exercises # 13\n",
    "\n",
    "A vineyard owner is planting several new rows of grapevines, and needs to know how many\n",
    "grapevines to plant in each row. She has determined that after measuring the length of a\n",
    "future row, she can use the following formula to calculate the number of vines that will fit\n",
    "in the row, along with the trellis end-post assemblies that will need to be constructed at\n",
    "each end of the row:\n",
    "\n",
    "V = (R - 2E) / S\n",
    "\n",
    "The terms in the formula are:\n",
    "\n",
    "V is the number of grapevines that will fit in the row.\n",
    "\n",
    "R is the length of the row, in feet.\n",
    "\n",
    "E is the amount of space, in feet, used by an end-post assembly.\n",
    "\n",
    "S is the space between vines, in feet.\n",
    "\n",
    "Write a program that makes the calculation for the vineyard owner. The program should\n",
    "ask the user to input the following:\n",
    "\n",
    "• The length of the row, in feet\n",
    "\n",
    "• The amount of space used by an end-post assembly, in feet\n",
    "\n",
    "• The amount of space between the vines, in feet\n",
    "\n",
    "Once the input data has been entered, the program should calculate and display the number\n",
    "of grapevines that will fit in the row."
   ]
  },
  {
   "cell_type": "code",
   "execution_count": 19,
   "id": "7605bf08",
   "metadata": {},
   "outputs": [
    {
     "name": "stdout",
     "output_type": "stream",
     "text": [
      "What is the length of the row? (ft) 10\n",
      "What is the amount of space used by an end-post assembly? (ft) 3\n",
      "What is the space between vines? (ft) 2\n",
      "The total number of grapevines that can fit in this row is 2\n"
     ]
    }
   ],
   "source": [
    "# First, I will need to gather the values for all the variables using the input command\n",
    "rowLength = input('What is the length of the row? (ft) ')\n",
    "endPostAssemblySpace = input('What is the amount of space used by an end-post assembly? (ft) ')\n",
    "spaceBetweenVines = input('What is the space between vines? (ft) ')\n",
    "\n",
    "# Next, we will need to convert all of the string values from our variables to floating values\n",
    "floatRowLength = float(rowLength)\n",
    "floatEndPostAssemblySpace = float(endPostAssemblySpace)\n",
    "floatSpaceBetweenVines = float(spaceBetweenVines)\n",
    "\n",
    "# Now, we can use our floating variables and rearrange them to solve for the number of grapevines that we can fit in a row\n",
    "grapeVines = ( (floatRowLength - (2 * floatEndPostAssemblySpace)) / floatSpaceBetweenVines )\n",
    "\n",
    "#Turning the grapeVines into an integer because the question asks for a whole number\n",
    "intGrapeVines = int(grapeVines)\n",
    "\n",
    "# Finally, we can print the final value for how many grapevines can fit in a row\n",
    "print(f'The total number of grapevines that can fit in this row is {intGrapeVines}')\n",
    "\n"
   ]
  },
  {
   "cell_type": "code",
   "execution_count": null,
   "id": "d1d0b751",
   "metadata": {},
   "outputs": [],
   "source": []
  }
 ],
 "metadata": {
  "kernelspec": {
   "display_name": "Python 3 (ipykernel)",
   "language": "python",
   "name": "python3"
  },
  "language_info": {
   "codemirror_mode": {
    "name": "ipython",
    "version": 3
   },
   "file_extension": ".py",
   "mimetype": "text/x-python",
   "name": "python",
   "nbconvert_exporter": "python",
   "pygments_lexer": "ipython3",
   "version": "3.11.5"
  }
 },
 "nbformat": 4,
 "nbformat_minor": 5
}
