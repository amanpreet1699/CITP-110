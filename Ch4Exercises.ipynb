{
 "cells": [
  {
   "cell_type": "markdown",
   "id": "cac869c2",
   "metadata": {},
   "source": [
    "# Starting Out With Python 5th Edition\n",
    "# Algorithm Workbench\n",
    "1. Write a while loop that lets the user enter a number. The number should be multiplied\n",
    "by 10, and the result assigned to a variable named product. The loop should iterate as\n",
    "long as product is less than 100.\n"
   ]
  },
  {
   "cell_type": "code",
   "execution_count": 1,
   "id": "a55a82f3",
   "metadata": {},
   "outputs": [
    {
     "ename": "NameError",
     "evalue": "name 'product' is not defined",
     "output_type": "error",
     "traceback": [
      "\u001b[1;31m---------------------------------------------------------------------------\u001b[0m",
      "\u001b[1;31mNameError\u001b[0m                                 Traceback (most recent call last)",
      "Cell \u001b[1;32mIn[1], line 1\u001b[0m\n\u001b[1;32m----> 1\u001b[0m \u001b[38;5;28;01mwhile\u001b[39;00m product \u001b[38;5;241m<\u001b[39m \u001b[38;5;241m100\u001b[39m :\n\u001b[0;32m      2\u001b[0m     userInput \u001b[38;5;241m=\u001b[39m \u001b[38;5;28mint\u001b[39m(\u001b[38;5;28minput\u001b[39m(\u001b[38;5;124m'\u001b[39m\u001b[38;5;124mEnter a number \u001b[39m\u001b[38;5;124m'\u001b[39m))\n\u001b[0;32m      3\u001b[0m     product \u001b[38;5;241m=\u001b[39m userInput \u001b[38;5;241m*\u001b[39m \u001b[38;5;241m10\u001b[39m\n",
      "\u001b[1;31mNameError\u001b[0m: name 'product' is not defined"
     ]
    }
   ],
   "source": [
    "#Writing the while loop for product under 100 and taking the inputs from user\n",
    "while product < 100 :\n",
    "    userInput = int(input('Enter a number '))\n",
    "    product = userInput * 10\n",
    "    print(product)\n",
    "#Error with variable not defined"
   ]
  },
  {
   "cell_type": "code",
   "execution_count": null,
   "id": "35594822",
   "metadata": {},
   "outputs": [
    {
     "name": "stdout",
     "output_type": "stream",
     "text": [
      "Enter a number 1\n",
      "10\n"
     ]
    }
   ],
   "source": [
    "#Writing the while loop for product under 100 and taking the inputs from user\n",
    "product = 0\n",
    "while product < 100 :\n",
    "    userInput = int(input('Enter a number '))\n",
    "    product = userInput * 10\n",
    "    print(product)"
   ]
  },
  {
   "cell_type": "code",
   "execution_count": null,
   "id": "2c439937",
   "metadata": {},
   "outputs": [],
   "source": []
  },
  {
   "cell_type": "code",
   "execution_count": null,
   "id": "e2971a6b",
   "metadata": {},
   "outputs": [],
   "source": [
    "#Writing the while loop for product under 100 and taking the inputs from user\n",
    "product = 0\n",
    "#Getting the input outside of the loop\n",
    "userInput = int(input('Enter a number '))\n",
    "\n",
    "while product < 100 :\n",
    "    product = userInput * 10\n",
    "    print(product)"
   ]
  },
  {
   "cell_type": "code",
   "execution_count": null,
   "id": "a87e33e9",
   "metadata": {},
   "outputs": [],
   "source": [
    "#Writing the while loop for product under 100 and taking the inputs from user\n",
    "product = 0\n",
    "#Getting the input outside of the loop\n",
    "userInput = int(input('Enter a number '))\n",
    "\n",
    "while product < 100 :\n",
    "    product = userInput * 10\n",
    "    print(product)"
   ]
  },
  {
   "cell_type": "code",
   "execution_count": null,
   "id": "d6c36841",
   "metadata": {},
   "outputs": [],
   "source": [
    "#Writing the while loop for product under 100 and taking the inputs from user\n",
    "product = 0\n",
    "#Getting the input outside of the loop\n",
    "userInput = int(input('Enter a number '))\n",
    "\n",
    "while product < 100 :\n",
    "    product = userInput * 10\n",
    "    print(product)"
   ]
  },
  {
   "cell_type": "code",
   "execution_count": null,
   "id": "8241a93b",
   "metadata": {},
   "outputs": [],
   "source": []
  },
  {
   "cell_type": "code",
   "execution_count": null,
   "id": "150231a6",
   "metadata": {},
   "outputs": [],
   "source": [
    "#Writing the while loop for product under 100 and taking the inputs from user\n",
    "product = 0\n",
    "#Getting the input outside of the loop\n",
    "userInput = int(input('Enter a number '))\n",
    "\n",
    "while product < 100 :\n",
    "    product = userInput * 10\n",
    "    print(product)"
   ]
  },
  {
   "cell_type": "code",
   "execution_count": null,
   "id": "76caf6ca",
   "metadata": {},
   "outputs": [],
   "source": []
  }
 ],
 "metadata": {
  "kernelspec": {
   "display_name": "Python 3 (ipykernel)",
   "language": "python",
   "name": "python3"
  },
  "language_info": {
   "codemirror_mode": {
    "name": "ipython",
    "version": 3
   },
   "file_extension": ".py",
   "mimetype": "text/x-python",
   "name": "python",
   "nbconvert_exporter": "python",
   "pygments_lexer": "ipython3",
   "version": "3.11.5"
  }
 },
 "nbformat": 4,
 "nbformat_minor": 5
}
