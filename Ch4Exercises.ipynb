{
 "cells": [
  {
   "cell_type": "markdown",
   "id": "36215177",
   "metadata": {},
   "source": [
    "# Starting Out With Python 5th Edition\n",
    "# Algorithm Workbench\n",
    "1. Write a while loop that lets the user enter a number. The number should be multiplied\n",
    "by 10, and the result assigned to a variable named product. The loop should iterate as\n",
    "long as product is less than 100.\n"
   ]
  },
  {
   "cell_type": "code",
   "execution_count": null,
   "id": "112e39dd",
   "metadata": {},
   "outputs": [],
   "source": [
    "while product < 100"
   ]
  }
 ],
 "metadata": {
  "kernelspec": {
   "display_name": "Python 3 (ipykernel)",
   "language": "python",
   "name": "python3"
  },
  "language_info": {
   "codemirror_mode": {
    "name": "ipython",
    "version": 3
   },
   "file_extension": ".py",
   "mimetype": "text/x-python",
   "name": "python",
   "nbconvert_exporter": "python",
   "pygments_lexer": "ipython3",
   "version": "3.11.5"
  }
 },
 "nbformat": 4,
 "nbformat_minor": 5
}
