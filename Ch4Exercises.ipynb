{
 "cells": [
  {
   "cell_type": "markdown",
   "id": "49dadf3e",
   "metadata": {},
   "source": [
    "# Starting Out With Python 5th Edition\n",
    "# Algorithm Workbench\n",
    "1. Write a while loop that lets the user enter a number. The number should be multiplied\n",
    "by 10, and the result assigned to a variable named product. The loop should iterate as\n",
    "long as product is less than 100."
   ]
  },
  {
   "cell_type": "code",
   "execution_count": 7,
   "id": "c7c6b984",
   "metadata": {},
   "outputs": [
    {
     "name": "stdout",
     "output_type": "stream",
     "text": [
      "Enter a number 1\n",
      "10\n",
      "100\n"
     ]
    }
   ],
   "source": [
    "#Getting the input outside of the loop\n",
    "product = int(input('Enter a number '))\n",
    "\n",
    "#Writing the while loop for product under 100 and taking the inputs from user\n",
    "while product < 100 :\n",
    "    product = product * 10\n",
    "    print(product)"
   ]
  },
  {
   "cell_type": "markdown",
   "id": "22edaa9f",
   "metadata": {},
   "source": [
    "3. Write a for loop that displays the following set of numbers:\n",
    "0, 10, 20, 30, 40, 50 . . . 1000"
   ]
  },
  {
   "cell_type": "code",
   "execution_count": 4,
   "id": "0c8895dc",
   "metadata": {},
   "outputs": [
    {
     "name": "stdout",
     "output_type": "stream",
     "text": [
      "0\n",
      "10\n",
      "20\n",
      "30\n",
      "40\n",
      "50\n",
      "60\n",
      "70\n",
      "80\n",
      "90\n",
      "100\n",
      "110\n",
      "120\n",
      "130\n",
      "140\n",
      "150\n",
      "160\n",
      "170\n",
      "180\n",
      "190\n",
      "200\n",
      "210\n",
      "220\n",
      "230\n",
      "240\n",
      "250\n",
      "260\n",
      "270\n",
      "280\n",
      "290\n",
      "300\n",
      "310\n",
      "320\n",
      "330\n",
      "340\n",
      "350\n",
      "360\n",
      "370\n",
      "380\n",
      "390\n",
      "400\n",
      "410\n",
      "420\n",
      "430\n",
      "440\n",
      "450\n",
      "460\n",
      "470\n",
      "480\n",
      "490\n",
      "500\n",
      "510\n",
      "520\n",
      "530\n",
      "540\n",
      "550\n",
      "560\n",
      "570\n",
      "580\n",
      "590\n",
      "600\n",
      "610\n",
      "620\n",
      "630\n",
      "640\n",
      "650\n",
      "660\n",
      "670\n",
      "680\n",
      "690\n",
      "700\n",
      "710\n",
      "720\n",
      "730\n",
      "740\n",
      "750\n",
      "760\n",
      "770\n",
      "780\n",
      "790\n",
      "800\n",
      "810\n",
      "820\n",
      "830\n",
      "840\n",
      "850\n",
      "860\n",
      "870\n",
      "880\n",
      "890\n",
      "900\n",
      "910\n",
      "920\n",
      "930\n",
      "940\n",
      "950\n",
      "960\n",
      "970\n",
      "980\n",
      "990\n",
      "1000\n"
     ]
    }
   ],
   "source": [
    "#Pretty simple if using range function\n",
    "#Realized I had to use 1001 because it doesn't include 1000\n",
    "for num in range (0, 1001, +10):\n",
    "    print (num)"
   ]
  },
  {
   "cell_type": "markdown",
   "id": "a1fcfd9d",
   "metadata": {},
   "source": [
    "# Programming Exercises\n",
    "1. Bug Collector\n",
    "A bug collector collects bugs every day for five days. Write a program that keeps a running\n",
    "total of the number of bugs collected during the five days. The loop should ask for the\n",
    "number of bugs collected for each day, and when the loop is finished, the program should\n",
    "display the total number of bugs collected."
   ]
  },
  {
   "cell_type": "code",
   "execution_count": 6,
   "id": "bb67717b",
   "metadata": {},
   "outputs": [
    {
     "name": "stdout",
     "output_type": "stream",
     "text": [
      "How many bugs did you collect day 01\n",
      "How many bugs did you collect day 11\n",
      "How many bugs did you collect day 21\n",
      "How many bugs did you collect day 31\n",
      "How many bugs did you collect day 41\n"
     ]
    }
   ],
   "source": [
    "totalBugs = 0\n",
    "for num in range(5):\n",
    "    inputBugs = int(input(f'How many bugs did you collect day {num}'))\n",
    "    totalBugs += inputBugs\n"
   ]
  },
  {
   "cell_type": "code",
   "execution_count": null,
   "id": "4e46e8e1",
   "metadata": {},
   "outputs": [],
   "source": []
  }
 ],
 "metadata": {
  "kernelspec": {
   "display_name": "Python 3 (ipykernel)",
   "language": "python",
   "name": "python3"
  },
  "language_info": {
   "codemirror_mode": {
    "name": "ipython",
    "version": 3
   },
   "file_extension": ".py",
   "mimetype": "text/x-python",
   "name": "python",
   "nbconvert_exporter": "python",
   "pygments_lexer": "ipython3",
   "version": "3.11.5"
  }
 },
 "nbformat": 4,
 "nbformat_minor": 5
}
