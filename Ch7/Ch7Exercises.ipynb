{
 "cells": [
  {
   "cell_type": "markdown",
   "id": "b4b2474b-161a-423c-aa7a-a8b6b1964b2a",
   "metadata": {},
   "source": [
    "## Starting Out With Python 5th Edition\n",
    "## Algorithm Workbench"
   ]
  },
  {
   "cell_type": "markdown",
   "id": "9c66d7b8-d439-44d7-99cf-2ba8635cff67",
   "metadata": {},
   "source": [
    "1. Write a statement that creates a list with the following strings: 'Einstein', 'Newton',\n",
    "'Copernicus', and 'Kepler'.\n",
    "\n"
   ]
  },
  {
   "cell_type": "code",
   "execution_count": 39,
   "id": "090dd547-ee85-482f-94c4-bb599f4d1bcf",
   "metadata": {
    "tags": []
   },
   "outputs": [
    {
     "name": "stdout",
     "output_type": "stream",
     "text": [
      "['Einstein', 'Newton', 'Copernicus', 'Kepler']\n"
     ]
    }
   ],
   "source": [
    "# Using function to store the list with four strings\n",
    "famousNames = ['Einstein', 'Newton', 'Copernicus', 'Kepler']\n",
    "# Printing the created list\n",
    "print(famousNames)"
   ]
  },
  {
   "cell_type": "markdown",
   "id": "90e86167-fcbc-473a-afe7-ba21e4af9a1b",
   "metadata": {},
   "source": [
    "3. Assume the list numbers1 has 100 elements, and numbers2 is an empty list. Write code\n",
    "that copies the values in numbers1 to numbers2."
   ]
  },
  {
   "cell_type": "code",
   "execution_count": 40,
   "id": "1fed70ec-0855-4d24-8e15-0f71f1923537",
   "metadata": {
    "tags": []
   },
   "outputs": [
    {
     "name": "stdout",
     "output_type": "stream",
     "text": [
      "[1, 2, 3, 4, 5, 6]\n"
     ]
    }
   ],
   "source": [
    "# I'm going to just use numbers 1-6 instead of 1-100 just to see if this code works\n",
    "numbers1 = [1,2,3,4,5,6]\n",
    "# Empty list for numbers2\n",
    "numbers2 = []\n",
    "# Using the code provided by professor to copy code\n",
    "for number in numbers1:\n",
    "    numbers2.append(number)\n",
    "# Printing the results to see if they copied\n",
    "print(numbers2)\n"
   ]
  },
  {
   "cell_type": "markdown",
   "id": "8055fe7e-76d7-4e00-be8c-5145329580cc",
   "metadata": {},
   "source": [
    "## Programming Exercises\n",
    "\n",
    "1. Total Sales\n",
    "\n",
    "Design a program that asks the user to enter a store’s sales for each day of the week. The\n",
    "amounts should be stored in a list. Use a loop to calculate the total sales for the week and\n",
    "display the result."
   ]
  },
  {
   "cell_type": "code",
   "execution_count": 44,
   "id": "90ca0643-1e8c-4973-a54d-90a54d274d91",
   "metadata": {
    "tags": []
   },
   "outputs": [
    {
     "name": "stdout",
     "output_type": "stream",
     "text": [
      "How much was the store's sales for Sunday? 100\n",
      "How much was the store's sales for Monday? 200\n",
      "How much was the store's sales for Tuesday? 300\n",
      "How much was the store's sales for Wednesday? 400\n",
      "How much was the store's sales for Thursday? 500\n",
      "How much was the store's sales for Friday? 600\n",
      "How much was the store's sales for Saturday? 700\n",
      "The total sales for the week are $2800\n"
     ]
    }
   ],
   "source": [
    "def main():\n",
    "    # Getting info from user on each day of the week\n",
    "    sundayPrompt = int(input(\"How much was the store's sales for Sunday? \"))\n",
    "    mondayPrompt = int(input(\"How much was the store's sales for Monday? \"))\n",
    "    tuesdayPrompt = int(input(\"How much was the store's sales for Tuesday? \"))\n",
    "    wednesdayPrompt = int(input(\"How much was the store's sales for Wednesday? \"))\n",
    "    thursdayPrompt = int(input(\"How much was the store's sales for Thursday? \"))\n",
    "    fridayPrompt = int(input(\"How much was the store's sales for Friday? \"))\n",
    "    saturdayPrompt = int(input(\"How much was the store's sales for Saturday? \"))\n",
    "    # Making list for each day of the week\n",
    "    salesList = [sundayPrompt, mondayPrompt, tuesdayPrompt, wednesdayPrompt, thursdayPrompt, fridayPrompt, saturdayPrompt]\n",
    "    # Making a variable to store the running total\n",
    "    runningTotal = 0\n",
    "    # For statement to sum the total in list\n",
    "    for index in range(len(salesList)):\n",
    "        runningTotal += salesList[index]\n",
    "    # Printing the running total to get the total sales\n",
    "    print(f'The total sales for the week are ${runningTotal}')\n",
    "    \n",
    "# Using code to run the function  \n",
    "if __name__ == '__main__':\n",
    "    main()\n"
   ]
  },
  {
   "cell_type": "markdown",
   "id": "22b370c8-09b6-4b10-a8c9-06fdf9a63648",
   "metadata": {
    "tags": []
   },
   "source": [
    "14. Expense Pie Chart\n",
    "\n",
    "Create a text file that contains your expenses for last month in the following categories:\n",
    "    \n",
    "• Rent\n",
    "• Gas\n",
    "• Food\n",
    "• Clothing\n",
    "• Car payment\n",
    "• Misc\n",
    "\n",
    "Write a Python program that reads the data from the file and uses matplotlib to plot a pie\n",
    "chart showing how you spend your money."
   ]
  },
  {
   "cell_type": "code",
   "execution_count": 45,
   "id": "46edd588-a04f-45da-a3a5-fc1d6744a37c",
   "metadata": {},
   "outputs": [],
   "source": [
    "# Creating function to write expenses to text file\n",
    "def myExpenseWrite():\n",
    "    \n",
    "    expenseWrite = open('expenses.txt','w')\n",
    "    \n",
    "    expenseWrite.write('500\\n')\n",
    "    expenseWrite.write('100\\n')\n",
    "    expenseWrite.write('200\\n')\n",
    "    expenseWrite.write('50\\n')\n",
    "    expenseWrite.write('400\\n')\n",
    "    expenseWrite.write('300\\n')\n",
    "    \n",
    "    expenseWrite.close()\n",
    "    \n",
    "myExpenseWrite()\n",
    "  \n",
    "    "
   ]
  },
  {
   "cell_type": "code",
   "execution_count": 46,
   "id": "8ad20e79",
   "metadata": {},
   "outputs": [
    {
     "data": {
      "image/png": "[encoded data removed]",
      "text/plain": [
       "<Figure size 640x480 with 1 Axes>"
      ]
     },
     "metadata": {},
     "output_type": "display_data"
    }
   ],
   "source": [
    "import matplotlib.pyplot as plt\n",
    "\n",
    "def main():\n",
    "    expenseRead = open('expenses.txt','r')\n",
    "    \n",
    "    expenseContent = expenseRead.readline()\n",
    "    \n",
    "    expenseList = []\n",
    "    \n",
    "    while expenseContent != '':\n",
    "        expenseList.append(int(expenseContent.rstrip('\\n')))\n",
    "        expenseContent = expenseRead.readline()\n",
    "        \n",
    "    expenseRead.close()\n",
    "        \n",
    "    pieLabels = ['Rent', 'Gas', 'Food', 'Clothing', 'Car Payment', 'Misc']\n",
    "\n",
    "    plt.pie(expenseList, labels=pieLabels)\n",
    "    \n",
    "    plt.title('Last Month Expenses')\n",
    "    \n",
    "    plt.show()\n",
    "    \n",
    "if __name__ == '__main__':\n",
    "    main()"
   ]
  },
  {
   "cell_type": "markdown",
   "id": "fd14857f",
   "metadata": {},
   "source": [
    "3. Rainfall Statistics\n",
    "\n",
    "Design a program that lets the user enter the total rainfall for each of 12 months into a\n",
    "list. The program should calculate and display the total rainfall for the year, the average\n",
    "monthly rainfall, the months with the highest and lowest amounts."
   ]
  },
  {
   "cell_type": "code",
   "execution_count": 53,
   "id": "60af48d3",
   "metadata": {},
   "outputs": [
    {
     "name": "stdout",
     "output_type": "stream",
     "text": [
      "What was the total rainfall for month 1? 1\n",
      "What was the total rainfall for month 2? 2\n",
      "What was the total rainfall for month 3? 3\n",
      "What was the total rainfall for month 4? 4\n",
      "What was the total rainfall for month 5? 5\n",
      "What was the total rainfall for month 6? 6\n",
      "What was the total rainfall for month 7? 7\n",
      "What was the total rainfall for month 8? 8\n",
      "What was the total rainfall for month 9? 9\n",
      "What was the total rainfall for month 10? 10\n",
      "What was the total rainfall for month 11? 11\n",
      "What was the total rainfall for month 12? 12\n",
      "The total rainfall for the twelve months is 78 \n",
      "The average rainfall for the twelve months is 6.5 \n",
      "The maximum rainfall for the twelve months is 12\n",
      "The minimum rainfall for the twelve months is 1\n"
     ]
    }
   ],
   "source": [
    "# Defining the function\n",
    "def main():\n",
    "    monthlyRainfallList = []\n",
    "    for num in range (1,13):\n",
    "        monthlyRainfallList.append(int(input(f'What was the total rainfall for month {num}? ')))\n",
    "    runningTotal = 0\n",
    "    for index in range(len(monthlyRainfallList)):\n",
    "        runningTotal += monthlyRainfallList[index]\n",
    "    print(f'The total rainfall for the twelve months is {runningTotal} ')\n",
    "    print(f'The average rainfall for the twelve months is {runningTotal/(len(monthlyRainfallList))} ')\n",
    "    print(f'The maximum rainfall for the twelve months is {max(monthlyRainfallList)}')\n",
    "    print(f'The minimum rainfall for the twelve months is {min(monthlyRainfallList)}')\n",
    "\n",
    "if __name__ == '__main__':\n",
    "    main()"
   ]
  },
  {
   "cell_type": "markdown",
   "id": "89f9de4e",
   "metadata": {},
   "source": [
    "4. Number Analysis Program\n",
    "\n",
    "Design a program that asks the user to enter a series of 20 numbers. The program should\n",
    "store the numbers in a list then display the following data:\n",
    "\n",
    "• The lowest number in the list\n",
    "\n",
    "• The highest number in the list\n",
    "\n",
    "• The total of the numbers in the list\n",
    "\n",
    "• The average of the numbers in the list"
   ]
  },
  {
   "cell_type": "code",
   "execution_count": null,
   "id": "c45890ae",
   "metadata": {},
   "outputs": [],
   "source": [
    "\n",
    "def main():\n",
    "    numericalList[]\n",
    "    for num in range (1,21):\n",
    "        numericalList.append(int(input(f'Enter Number #{num}? ')))\n",
    "    runningTotal = 0\n",
    "    for index in range(len(numericalList)):\n",
    "        runningTotal += numericalList[index]\n",
    "\n"
   ]
  }
 ],
 "metadata": {
  "kernelspec": {
   "display_name": "Python 3 (ipykernel)",
   "language": "python",
   "name": "python3"
  },
  "language_info": {
   "codemirror_mode": {
    "name": "ipython",
    "version": 3
   },
   "file_extension": ".py",
   "mimetype": "text/x-python",
   "name": "python",
   "nbconvert_exporter": "python",
   "pygments_lexer": "ipython3",
   "version": "3.11.5"
  }
 },
 "nbformat": 4,
 "nbformat_minor": 5
}
