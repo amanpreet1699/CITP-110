{
 "cells": [
  {
   "cell_type": "markdown",
   "id": "b4b2474b-161a-423c-aa7a-a8b6b1964b2a",
   "metadata": {},
   "source": [
    "## Starting Out With Python 5th Edition\n",
    "## Algorithm Workbench"
   ]
  },
  {
   "cell_type": "markdown",
   "id": "9c66d7b8-d439-44d7-99cf-2ba8635cff67",
   "metadata": {},
   "source": [
    "1. Write a statement that creates a list with the following strings: 'Einstein', 'Newton',\n",
    "'Copernicus', and 'Kepler'.\n",
    "\n"
   ]
  },
  {
   "cell_type": "code",
   "execution_count": null,
   "id": "090dd547-ee85-482f-94c4-bb599f4d1bcf",
   "metadata": {},
   "outputs": [],
   "source": []
  },
  {
   "cell_type": "markdown",
   "id": "90e86167-fcbc-473a-afe7-ba21e4af9a1b",
   "metadata": {},
   "source": [
    "3. Assume the list numbers1 has 100 elements, and numbers2 is an empty list. Write code\n",
    "that copies the values in numbers1 to numbers2."
   ]
  },
  {
   "cell_type": "code",
   "execution_count": null,
   "id": "bc8bb578-1775-4a77-93e3-660fd7087d36",
   "metadata": {},
   "outputs": [],
   "source": []
  },
  {
   "cell_type": "code",
   "execution_count": null,
   "id": "245b6cff-4e11-4395-a4b1-031bb71f1932",
   "metadata": {},
   "outputs": [],
   "source": []
  }
 ],
 "metadata": {
  "kernelspec": {
   "display_name": "Python 3 (ipykernel)",
   "language": "python",
   "name": "python3"
  },
  "language_info": {
   "codemirror_mode": {
    "name": "ipython",
    "version": 3
   },
   "file_extension": ".py",
   "mimetype": "text/x-python",
   "name": "python",
   "nbconvert_exporter": "python",
   "pygments_lexer": "ipython3",
   "version": "3.11.5"
  }
 },
 "nbformat": 4,
 "nbformat_minor": 5
}
