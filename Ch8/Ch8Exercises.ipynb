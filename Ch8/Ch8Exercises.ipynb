{
 "cells": [
  {
   "cell_type": "markdown",
   "id": "d5c47516",
   "metadata": {},
   "source": [
    "# Starting Out With Python 5th Edition\n",
    "# Algorithm Workbench\n",
    "\n",
    "1. Assume choice references a string. The following if statement determines whether\n",
    "choice is equal to ‘Y’ or ‘y’:\n",
    "\n",
    "if choice == 'Y' or choice == 'y':\n",
    "\n",
    "Rewrite this statement so it only makes one comparison, and does not use the or\n",
    "operator. (Hint: use either the upper or lower methods.)"
   ]
  },
  {
   "cell_type": "code",
   "execution_count": 3,
   "id": "06937ff4",
   "metadata": {},
   "outputs": [
    {
     "name": "stdout",
     "output_type": "stream",
     "text": [
      "Enter the 25th letter of the alphabet y\n",
      "y is lowercase\n"
     ]
    }
   ],
   "source": [
    "\n",
    "# Getting input from user\n",
    "choice = input('Enter the 25th letter of the alphabet ')\n",
    "\n",
    "if choice.isupper():\n",
    "    print('Y is uppercase')\n",
    "else:\n",
    "    print('y is lowercase')\n"
   ]
  },
  {
   "cell_type": "markdown",
   "id": "fbdc1224",
   "metadata": {},
   "source": [
    "2. Write a loop that counts the number of space characters that appear in the string referenced\n",
    "by mystring."
   ]
  },
  {
   "cell_type": "code",
   "execution_count": 6,
   "id": "a73cde37",
   "metadata": {},
   "outputs": [
    {
     "name": "stdout",
     "output_type": "stream",
     "text": [
      "Enter a sentence to see how many spaces it contains I like to move it, move it\n",
      "The amount of spaces in your sentence is 6\n"
     ]
    }
   ],
   "source": [
    "mystring = input('Enter a sentence to see how many spaces it contains ')\n",
    "\n",
    "spaceCount = 0\n",
    "\n",
    "for letter in mystring:\n",
    "    if letter.isspace():\n",
    "        spaceCount += 1\n",
    "\n",
    "print(f'The amount of spaces in your sentence is {spaceCount}')"
   ]
  },
  {
   "cell_type": "markdown",
   "id": "321dc40c",
   "metadata": {},
   "source": [
    "Programming Exercises\n",
    "\n",
    "1. Initials\n",
    "\n",
    "Write a program that gets a string containing a person’s first, middle, and last names, and\n",
    "displays their first, middle, and last initials. For example, if the user enters John William\n",
    "Smith, the program should display J. W. S."
   ]
  },
  {
   "cell_type": "code",
   "execution_count": 13,
   "id": "23c5b581",
   "metadata": {},
   "outputs": [
    {
     "name": "stdout",
     "output_type": "stream",
     "text": [
      "Please enter your full name including middle name Amanpreet Multani Kaur\n",
      "A.M.K.\n"
     ]
    }
   ],
   "source": [
    "def main():\n",
    "    fullName = input('Please enter your full name including middle name ')\n",
    "    nameList = fullName.split()\n",
    "    initialList = []\n",
    "    for name in nameList:\n",
    "        initialList.append(name[0])\n",
    "    print(f'{initialList[0]}.{initialList[1]}.{initialList[2]}.')\n",
    "\n",
    "\n",
    "# Using code to run the function  \n",
    "if __name__ == '__main__':\n",
    "    main()"
   ]
  },
  {
   "cell_type": "markdown",
   "id": "825916c2",
   "metadata": {},
   "source": [
    "2. Sum of Digits in a String\n",
    "\n",
    "Write a program that asks the user to enter a series of single-digit numbers with nothing\n",
    "separating them. The program should display the sum of all the single digit numbers in the\n",
    "string. For example, if the user enters 2514, the method should return 12, which is the sum\n",
    "of 2, 5, 1, and 4."
   ]
  },
  {
   "cell_type": "code",
   "execution_count": 20,
   "id": "4ade649c",
   "metadata": {},
   "outputs": [
    {
     "name": "stdout",
     "output_type": "stream",
     "text": [
      "Enter numbers that you want to add up between 0-9 sequentially, without any spaces 123456\n",
      "21\n"
     ]
    }
   ],
   "source": [
    "def main():\n",
    "    fullNumber = input('Enter numbers that you want to add up between 0-9 sequentially, without any spaces ')\n",
    "    runningTotal = 0\n",
    "    for number in fullNumber:\n",
    "        runningTotal += int(number)\n",
    "    print(runningTotal)\n",
    "    \n",
    "\n",
    "\n",
    "# Using code to run the function  \n",
    "if __name__ == '__main__':\n",
    "    main()        \n"
   ]
  },
  {
   "cell_type": "markdown",
   "id": "fbc2f4dd",
   "metadata": {},
   "source": [
    "3. Date Printer\n",
    "\n",
    "Write a program that reads a string from the user containing a date in the form mm/dd/yyyy.\n",
    "\n",
    "It should print the date in the format March 12, 2018."
   ]
  },
  {
   "cell_type": "code",
   "execution_count": 22,
   "id": "c0e5ed2e",
   "metadata": {},
   "outputs": [
    {
     "name": "stdout",
     "output_type": "stream",
     "text": [
      "Please enter the date in the mm/dd/yyyy format 01/02/2018\n",
      "The date is January 02, 2018\n"
     ]
    }
   ],
   "source": [
    "def main():\n",
    "    dateInput = input('Please enter the date in the mm/dd/yyyy format ')\n",
    "    dateList = dateInput.split('/')\n",
    "    month = ''\n",
    "    if dateList[0] == '01':\n",
    "        month = 'January'\n",
    "    else:\n",
    "        if dateList[0] == '02':\n",
    "            month = 'February'\n",
    "        else:\n",
    "            if dateList{0} == '03':\n",
    "                month = 'March'\n",
    "            else:\n",
    "                if dateList{0} == '04':\n",
    "                    month = 'April'\n",
    "                else:\n",
    "                    if dateList{0} == '05':\n",
    "                        month = 'May'\n",
    "                    else:\n",
    "                        if dateList{0} == '06':\n",
    "                            month = 'June'\n",
    "                        else:\n",
    "                            if dateList{0} == '07':\n",
    "                                month = 'July'\n",
    "                            else:\n",
    "                                if dateList{0} == '08':\n",
    "                                    month = 'August'\n",
    "                                else:\n",
    "                                    if dateList{0} == '09':\n",
    "                                        month = 'September'\n",
    "                                    else:\n",
    "                                        if dateList{0} == '10':\n",
    "                                            month = 'October'\n",
    "                                        else:\n",
    "                                            if dateList{0} == '11':\n",
    "                                                month = 'November'\n",
    "                                            else:\n",
    "                                                if dateList{0} == '12':\n",
    "                                                    month = 'December'\n",
    "                                \n",
    "    print(f'The date is {month} {dateList[1]}, {dateList[2]}')\n",
    "    \n",
    "# Using code to run the function  \n",
    "if __name__ == '__main__':\n",
    "    main()   \n"
   ]
  },
  {
   "cell_type": "markdown",
   "id": "a2284772",
   "metadata": {},
   "source": [
    "9. Vowels and Consonants\n",
    "\n",
    "Write a program with a function that accepts a string as an argument and returns the\n",
    "number of vowels that the string contains. The application should have another function that accepts a string as an argument and returns the number of consonants that the string\n",
    "contains. The application should let the user enter a string, and should display the number\n",
    "of vowels and the number of consonants it contains."
   ]
  },
  {
   "cell_type": "code",
   "execution_count": null,
   "id": "872427a8",
   "metadata": {},
   "outputs": [],
   "source": []
  }
 ],
 "metadata": {
  "kernelspec": {
   "display_name": "Python 3 (ipykernel)",
   "language": "python",
   "name": "python3"
  },
  "language_info": {
   "codemirror_mode": {
    "name": "ipython",
    "version": 3
   },
   "file_extension": ".py",
   "mimetype": "text/x-python",
   "name": "python",
   "nbconvert_exporter": "python",
   "pygments_lexer": "ipython3",
   "version": "3.11.5"
  }
 },
 "nbformat": 4,
 "nbformat_minor": 5
}
