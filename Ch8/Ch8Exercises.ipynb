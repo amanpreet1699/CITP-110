{
 "cells": [
  {
   "cell_type": "markdown",
   "id": "ff41b9fa",
   "metadata": {},
   "source": [
    "# Starting Out With Python 5th Edition\n",
    "# Algorithm Workbench\n",
    "\n",
    "1. Assume choice references a string. The following if statement determines whether\n",
    "choice is equal to ‘Y’ or ‘y’:\n",
    "\n",
    "if choice == 'Y' or choice == 'y':\n",
    "\n",
    "Rewrite this statement so it only makes one comparison, and does not use the or\n",
    "operator. (Hint: use either the upper or lower methods.)"
   ]
  },
  {
   "cell_type": "code",
   "execution_count": 3,
   "id": "c0dc77ee",
   "metadata": {},
   "outputs": [
    {
     "name": "stdout",
     "output_type": "stream",
     "text": [
      "Enter the 25th letter of the alphabet y\n",
      "y is lowercase\n"
     ]
    }
   ],
   "source": [
    "\n",
    "# Getting input from user\n",
    "choice = input('Enter the 25th letter of the alphabet ')\n",
    "\n",
    "if choice.isupper():\n",
    "    print('Y is uppercase')\n",
    "else:\n",
    "    print('y is lowercase')\n"
   ]
  },
  {
   "cell_type": "markdown",
   "id": "b52a4f4a",
   "metadata": {},
   "source": [
    "2. Write a loop that counts the number of space characters that appear in the string referenced\n",
    "by mystring."
   ]
  },
  {
   "cell_type": "code",
   "execution_count": null,
   "id": "79fbd48d",
   "metadata": {},
   "outputs": [],
   "source": [
    "mystring = input('Enter a sentence to see how many spaces it contains')\n",
    "\n",
    "spaceCount = 0\n",
    "\n",
    "for letter in mystring:\n",
    "    if mystring.isspace():\n",
    "        spaceCount += 1\n",
    "\n",
    "print(f'The amount of spaces in your sentence is {spaceCount}')"
   ]
  },
  {
   "cell_type": "markdown",
   "id": "e2f71104",
   "metadata": {},
   "source": [
    "Programming Exercises\n",
    "\n",
    "1. Initials\n",
    "\n",
    "Write a program that gets a string containing a person’s first, middle, and last names, and\n",
    "displays their first, middle, and last initials. For example, if the user enters John William\n",
    "Smith, the program should display J. W. S."
   ]
  },
  {
   "cell_type": "code",
   "execution_count": null,
   "id": "69c9f5d2",
   "metadata": {},
   "outputs": [],
   "source": []
  }
 ],
 "metadata": {
  "kernelspec": {
   "display_name": "Python 3 (ipykernel)",
   "language": "python",
   "name": "python3"
  },
  "language_info": {
   "codemirror_mode": {
    "name": "ipython",
    "version": 3
   },
   "file_extension": ".py",
   "mimetype": "text/x-python",
   "name": "python",
   "nbconvert_exporter": "python",
   "pygments_lexer": "ipython3",
   "version": "3.11.5"
  }
 },
 "nbformat": 4,
 "nbformat_minor": 5
}
