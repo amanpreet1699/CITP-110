{
 "cells": [
  {
   "cell_type": "markdown",
   "id": "6506f0c3",
   "metadata": {},
   "source": [
    "# Week Set Code Set 3"
   ]
  },
  {
   "cell_type": "markdown",
   "id": "345639e9",
   "metadata": {},
   "source": [
    "## Algorithm Workbench # 4\n",
    "The following code contains several nested if-else statements. Unfortunately, it\n",
    "was written without proper alignment and indentation. Rewrite the code and use the\n",
    "proper conventions of alignment and indentation.\n",
    "\n",
    "if score >= A_score:\n",
    "\n",
    "print('Your grade is A.')\n",
    "\n",
    "else:\n",
    "\n",
    "if score >= B_score:\n",
    "\n",
    "print('Your grade is B.')\n",
    "\n",
    "else:\n",
    "\n",
    "if score >= C_score:\n",
    "\n",
    "print('Your grade is C.')\n",
    "\n",
    "else:\n",
    "\n",
    "if score >= D_score:\n",
    "\n",
    "print('Your grade is D.')\n",
    "\n",
    "else:\n",
    "\n",
    "print('Your grade is F.')"
   ]
  },
  {
   "cell_type": "code",
   "execution_count": 4,
   "id": "b758d492",
   "metadata": {},
   "outputs": [
    {
     "ename": "NameError",
     "evalue": "name 'score' is not defined",
     "output_type": "error",
     "traceback": [
      "\u001b[1;31m---------------------------------------------------------------------------\u001b[0m",
      "\u001b[1;31mNameError\u001b[0m                                 Traceback (most recent call last)",
      "Cell \u001b[1;32mIn[4], line 2\u001b[0m\n\u001b[0;32m      1\u001b[0m \u001b[38;5;66;03m# Re-writted code with proper indentation. Gives me an error if I run it because variables aren't defined\u001b[39;00m\n\u001b[1;32m----> 2\u001b[0m \u001b[38;5;28;01mif\u001b[39;00m score \u001b[38;5;241m>\u001b[39m\u001b[38;5;241m=\u001b[39m A_score:\n\u001b[0;32m      3\u001b[0m     \u001b[38;5;28mprint\u001b[39m(\u001b[38;5;124m'\u001b[39m\u001b[38;5;124mYour grade is A.\u001b[39m\u001b[38;5;124m'\u001b[39m)\n\u001b[0;32m      4\u001b[0m \u001b[38;5;28;01melse\u001b[39;00m:\n",
      "\u001b[1;31mNameError\u001b[0m: name 'score' is not defined"
     ]
    }
   ],
   "source": [
    "# Re-writted code with proper indentation. Gives me an error if I run it because variables aren't defined\n",
    "if score >= A_score:\n",
    "    print('Your grade is A.')\n",
    "else:\n",
    "if score >= B_score:\n",
    "print('Your grade is B.')\n",
    "else:\n",
    "if score >= C_score:\n",
    "print('Your grade is C.')\n",
    "else:\n",
    "if score >= D_score:\n",
    "print('Your grade is D.')\n",
    "else:\n",
    "print('Your grade is F.')"
   ]
  },
  {
   "cell_type": "markdown",
   "id": "3a9c945d",
   "metadata": {},
   "source": []
  }
 ],
 "metadata": {
  "kernelspec": {
   "display_name": "Python 3 (ipykernel)",
   "language": "python",
   "name": "python3"
  },
  "language_info": {
   "codemirror_mode": {
    "name": "ipython",
    "version": 3
   },
   "file_extension": ".py",
   "mimetype": "text/x-python",
   "name": "python",
   "nbconvert_exporter": "python",
   "pygments_lexer": "ipython3",
   "version": "3.11.5"
  }
 },
 "nbformat": 4,
 "nbformat_minor": 5
}
