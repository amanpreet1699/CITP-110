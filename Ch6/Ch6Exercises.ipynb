{
 "cells": [
  {
   "cell_type": "markdown",
   "id": "4dbd414a",
   "metadata": {},
   "source": [
    "# Starting Out With Python 5th Edition\n",
    "# Algorithm Workbench"
   ]
  },
  {
   "cell_type": "markdown",
   "id": "15f0a8c5",
   "metadata": {},
   "source": [
    "1. Write a program that opens an output file with the filename my_name.txt, writes your\n",
    "name to the file, then closes the file.\n",
    "\n"
   ]
  },
  {
   "cell_type": "code",
   "execution_count": null,
   "id": "3a2636cb",
   "metadata": {},
   "outputs": [],
   "source": [
    "# Assuming the file is in the same location as this file\n",
    "#Writing the open function\n",
    "nameWrite = open('my_name.txt',w)"
   ]
  },
  {
   "cell_type": "markdown",
   "id": "61e2788f",
   "metadata": {},
   "source": [
    "2. Write a program that opens the my_name.txt file that was created by the program\n",
    "in problem 1, reads your name from the file, displays the name on the screen, then\n",
    "closes the file."
   ]
  },
  {
   "cell_type": "code",
   "execution_count": null,
   "id": "7e0f4b11",
   "metadata": {},
   "outputs": [],
   "source": []
  },
  {
   "cell_type": "markdown",
   "id": "bfeab44f",
   "metadata": {},
   "source": [
    "# Programming Exercises"
   ]
  },
  {
   "cell_type": "markdown",
   "id": "e3d64914",
   "metadata": {},
   "source": [
    "1. File Display\n",
    "\n",
    "Assume a file containing a series of integers is named numbers.txt and exists on the computer’s\n",
    "disk. Write a program that displays all of the numbers in the file."
   ]
  },
  {
   "cell_type": "code",
   "execution_count": null,
   "id": "346f67a6",
   "metadata": {},
   "outputs": [],
   "source": []
  },
  {
   "cell_type": "markdown",
   "id": "0ac4eac9",
   "metadata": {},
   "source": [
    "6. Average of Numbers\n",
    "\n",
    "Assume a file containing a series of integers is named numbers.txt and exists on the\n",
    "computer’s disk. Write a program that calculates the average of all the numbers stored in\n",
    "the file."
   ]
  },
  {
   "cell_type": "code",
   "execution_count": null,
   "id": "2bcaffde",
   "metadata": {},
   "outputs": [],
   "source": []
  },
  {
   "cell_type": "markdown",
   "id": "ce3a8374",
   "metadata": {},
   "source": [
    "9. Exception Handing\n",
    "\n",
    "Modify the program that you wrote for Exercise 6 so it handles the following exceptions:\n",
    "\n",
    "• It should handle any IOError exceptions that are raised when the file is opened and data\n",
    "is read from it.\n",
    "\n",
    "• It should handle any ValueError exceptions that are raised when the items that are read\n",
    "from the file are converted to a number."
   ]
  },
  {
   "cell_type": "code",
   "execution_count": null,
   "id": "b0a6ce2e",
   "metadata": {},
   "outputs": [],
   "source": []
  }
 ],
 "metadata": {
  "kernelspec": {
   "display_name": "Python 3 (ipykernel)",
   "language": "python",
   "name": "python3"
  },
  "language_info": {
   "codemirror_mode": {
    "name": "ipython",
    "version": 3
   },
   "file_extension": ".py",
   "mimetype": "text/x-python",
   "name": "python",
   "nbconvert_exporter": "python",
   "pygments_lexer": "ipython3",
   "version": "3.11.5"
  }
 },
 "nbformat": 4,
 "nbformat_minor": 5
}
