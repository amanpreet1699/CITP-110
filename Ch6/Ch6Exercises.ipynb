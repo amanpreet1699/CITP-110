{
 "cells": [
  {
   "cell_type": "markdown",
   "id": "bca5727c",
   "metadata": {},
   "source": [
    "# Starting Out With Python 5th Edition\n",
    "# Algorithm Workbench"
   ]
  },
  {
   "cell_type": "markdown",
   "id": "1e6b6762",
   "metadata": {},
   "source": [
    "1. Write a program that opens an output file with the filename my_name.txt, writes your\n",
    "name to the file, then closes the file."
   ]
  },
  {
   "cell_type": "code",
   "execution_count": null,
   "id": "357fc46a",
   "metadata": {},
   "outputs": [],
   "source": []
  },
  {
   "cell_type": "markdown",
   "id": "de170f6f",
   "metadata": {},
   "source": [
    "2. Write a program that opens the my_name.txt file that was created by the program\n",
    "in problem 1, reads your name from the file, displays the name on the screen, then\n",
    "closes the file."
   ]
  },
  {
   "cell_type": "code",
   "execution_count": null,
   "id": "590076c5",
   "metadata": {},
   "outputs": [],
   "source": []
  },
  {
   "cell_type": "markdown",
   "id": "16f37624",
   "metadata": {},
   "source": [
    "# Programming Exercises"
   ]
  },
  {
   "cell_type": "markdown",
   "id": "9d232fb3",
   "metadata": {},
   "source": [
    "1. File Display\n",
    "\n",
    "Assume a file containing a series of integers is named numbers.txt and exists on the computer’s\n",
    "disk. Write a program that displays all of the numbers in the file."
   ]
  },
  {
   "cell_type": "code",
   "execution_count": null,
   "id": "c8840078",
   "metadata": {},
   "outputs": [],
   "source": []
  },
  {
   "cell_type": "markdown",
   "id": "4f04bd2b",
   "metadata": {},
   "source": [
    "6. Average of Numbers\n",
    "\n",
    "Assume a file containing a series of integers is named numbers.txt and exists on the\n",
    "computer’s disk. Write a program that calculates the average of all the numbers stored in\n",
    "the file."
   ]
  },
  {
   "cell_type": "code",
   "execution_count": null,
   "id": "8816f011",
   "metadata": {},
   "outputs": [],
   "source": []
  },
  {
   "cell_type": "markdown",
   "id": "d347c533",
   "metadata": {},
   "source": []
  }
 ],
 "metadata": {
  "kernelspec": {
   "display_name": "Python 3 (ipykernel)",
   "language": "python",
   "name": "python3"
  },
  "language_info": {
   "codemirror_mode": {
    "name": "ipython",
    "version": 3
   },
   "file_extension": ".py",
   "mimetype": "text/x-python",
   "name": "python",
   "nbconvert_exporter": "python",
   "pygments_lexer": "ipython3",
   "version": "3.11.5"
  }
 },
 "nbformat": 4,
 "nbformat_minor": 5
}
