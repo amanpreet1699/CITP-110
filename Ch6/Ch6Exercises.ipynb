{
 "cells": [
  {
   "cell_type": "markdown",
   "id": "5d1b831e",
   "metadata": {},
   "source": [
    "# Starting Out With Python 5th Edition\n",
    "# Algorithm Workbench"
   ]
  },
  {
   "cell_type": "markdown",
   "id": "6b97c0b9",
   "metadata": {},
   "source": [
    "1. Write a program that opens an output file with the filename my_name.txt, writes your\n",
    "name to the file, then closes the file.\n",
    "\n"
   ]
  },
  {
   "cell_type": "code",
   "execution_count": 8,
   "id": "fd53965b",
   "metadata": {},
   "outputs": [],
   "source": [
    "# Assuming the file is in the same location as this file\n",
    "#Writing the open function\n",
    "# Had an error and realized I needed to put apostrophes around w\n",
    "# Defining a function to open the file, write name, and then close it\n",
    "def myNameWrite():\n",
    "    nameWrite = open('my_name.txt','w')\n",
    "\n",
    "    # Writing my name to the file\n",
    "    nameWrite.write('Amanpreet ')\n",
    "    nameWrite.write('Kaur')\n",
    "\n",
    "    # Closing the file\n",
    "    nameWrite.close()\n",
    "\n",
    "# Calling the function to run it\n",
    "myNameWrite()\n",
    "# Very cool that this created the file too!!\n"
   ]
  },
  {
   "cell_type": "markdown",
   "id": "c59e0736",
   "metadata": {},
   "source": [
    "2. Write a program that opens the my_name.txt file that was created by the program\n",
    "in problem 1, reads your name from the file, displays the name on the screen, then\n",
    "closes the file."
   ]
  },
  {
   "cell_type": "code",
   "execution_count": 9,
   "id": "9bb14bec",
   "metadata": {},
   "outputs": [
    {
     "name": "stdout",
     "output_type": "stream",
     "text": [
      "Amanpreet Kaur\n"
     ]
    }
   ],
   "source": [
    "# Defining the main function to open file, read the content, and close the file. Then print the content that was read\n",
    "def myNameRead():\n",
    "    # Function to open file as read only\n",
    "    nameRead = open('my_name.txt','r')\n",
    "    \n",
    "    # Function to store what is read in the variable nameContent\n",
    "    nameContent = nameRead.read()\n",
    "    \n",
    "    # Function to close nameRead file\n",
    "    nameRead.close()\n",
    "    \n",
    "    # Prints the variable nameContent\n",
    "    print(nameContent)\n",
    "\n",
    "# To call the function so it runs\n",
    "myNameRead() \n",
    "    "
   ]
  },
  {
   "cell_type": "markdown",
   "id": "b0dfb911",
   "metadata": {},
   "source": [
    "# Programming Exercises"
   ]
  },
  {
   "cell_type": "markdown",
   "id": "0858590f",
   "metadata": {},
   "source": [
    "1. File Display\n",
    "\n",
    "Assume a file containing a series of integers is named numbers.txt and exists on the computer’s\n",
    "disk. Write a program that displays all of the numbers in the file."
   ]
  },
  {
   "cell_type": "code",
   "execution_count": 10,
   "id": "a9479cc7",
   "metadata": {},
   "outputs": [
    {
     "name": "stdout",
     "output_type": "stream",
     "text": [
      "18\n",
      "27\n",
      "33\n"
     ]
    }
   ],
   "source": [
    "# Define function\n",
    "def numbersRead():\n",
    "    # Variable to open file as read\n",
    "    numberContent = open('numbers.txt','r')\n",
    "    # Read the content of the file\n",
    "    numbersFile = numberContent.read()\n",
    "    # Closing the file\n",
    "    numberContent.close()\n",
    "    # Print the results\n",
    "    print(numbersFile)\n",
    "\n",
    "# Calling the function so it runs\n",
    "numbersRead()\n",
    "\n",
    "# I made a file with numbers in it to test this\n"
   ]
  },
  {
   "cell_type": "markdown",
   "id": "c0ad5adc",
   "metadata": {},
   "source": [
    "6. Average of Numbers\n",
    "\n",
    "Assume a file containing a series of integers is named numbers.txt and exists on the\n",
    "computer’s disk. Write a program that calculates the average of all the numbers stored in\n",
    "the file."
   ]
  },
  {
   "cell_type": "code",
   "execution_count": 7,
   "id": "afa384e5",
   "metadata": {},
   "outputs": [
    {
     "name": "stdout",
     "output_type": "stream",
     "text": [
      "26.0\n"
     ]
    }
   ],
   "source": [
    "# Defining the function to get average number\n",
    "def averageNumber():\n",
    "    \n",
    "    #To open the file and read file\n",
    "    numberFile = open('numbers.txt','r')\n",
    "    #Function to read lines of code\n",
    "    numbersContent = numberFile.readline()\n",
    "    # Variable to contain the running total\n",
    "    runningTotal = 0\n",
    "    # Variable to keep track of how many numbers we need to divide by to get the average\n",
    "    iterationNumber = 0\n",
    "    \n",
    "    # While loop to get the code to run while the variable numbersContent isn't blank\n",
    "    while numbersContent != '':\n",
    "        #Conversion to integer\n",
    "        intNumber = int(numbersContent)\n",
    "        # Variable gets the number added to it in each iteration\n",
    "        runningTotal += intNumber\n",
    "        # Variable keeps track of how many iterations occur\n",
    "        iterationNumber += 1\n",
    "        # Function to read line at every iteration\n",
    "        numbersContent = numberFile.readline()\n",
    "    \n",
    "    # Closing the code file\n",
    "    numberFile.close()\n",
    "    # Doing the math to get the average\n",
    "    Average = runningTotal / iterationNumber\n",
    "    # Printing the average\n",
    "    print(f'{Average}')\n",
    "\n",
    "# Calling the function to have it occur\n",
    "averageNumber()\n",
    "\n"
   ]
  },
  {
   "cell_type": "markdown",
   "id": "d7a38f31",
   "metadata": {},
   "source": [
    "9. Exception Handing\n",
    "\n",
    "Modify the program that you wrote for Exercise 6 so it handles the following exceptions:\n",
    "\n",
    "• It should handle any IOError exceptions that are raised when the file is opened and data\n",
    "is read from it.\n",
    "\n",
    "• It should handle any ValueError exceptions that are raised when the items that are read\n",
    "from the file are converted to a number."
   ]
  },
  {
   "cell_type": "code",
   "execution_count": 11,
   "id": "3e4c8169",
   "metadata": {},
   "outputs": [
    {
     "name": "stdout",
     "output_type": "stream",
     "text": [
      "26.0\n"
     ]
    }
   ],
   "source": [
    "# Copied the code from PE 6\n",
    "# Defining the function to get average number\n",
    "def averageNumber():\n",
    "    try: \n",
    "        #To open the file and read file\n",
    "        numberFile = open('numbers.txt','r')\n",
    "        #Function to read lines of code\n",
    "        numbersContent = numberFile.readline()\n",
    "        # Variable to contain the running total\n",
    "        runningTotal = 0\n",
    "        # Variable to keep track of how many numbers we need to divide by to get the average\n",
    "        iterationNumber = 0\n",
    "\n",
    "        # While loop to get the code to run while the variable numbersContent isn't blank\n",
    "        while numbersContent != '':\n",
    "            #Conversion to integer\n",
    "            intNumber = int(numbersContent)\n",
    "            # Variable gets the number added to it in each iteration\n",
    "            runningTotal += intNumber\n",
    "            # Variable keeps track of how many iterations occur\n",
    "            iterationNumber += 1\n",
    "            # Function to read line at every iteration\n",
    "            numbersContent = numberFile.readline()\n",
    "\n",
    "        # Closing the code file\n",
    "        numberFile.close()\n",
    "        # Doing the math to get the average\n",
    "        Average = runningTotal / iterationNumber\n",
    "        # Printing the average\n",
    "        print(f'{Average}')\n",
    "    # Added exception for IOError\n",
    "    except IOError:\n",
    "        print('An error occured trying to read the file.')\n",
    "    # Added exception for ValueError        \n",
    "    except ValueError:\n",
    "        print('ERROR: Hours worked and hourly pay rate must be valid integers.')\n",
    "\n",
    "# Calling the function to have it occur\n",
    "averageNumber()\n",
    "\n"
   ]
  },
  {
   "cell_type": "markdown",
   "id": "f5721663",
   "metadata": {},
   "source": [
    "5. Sum of Numbers\n",
    "\n",
    "Assume a file containing a series of integers is named numbers.txt and exists on the computer’s\n",
    "disk. Write a program that reads all of the numbers stored in the file and calculates\n",
    "their total.\n",
    "\n",
    "Since this is similar to PE 6, I will be using that as a template"
   ]
  },
  {
   "cell_type": "code",
   "execution_count": null,
   "id": "25095ab9",
   "metadata": {},
   "outputs": [],
   "source": []
  }
 ],
 "metadata": {
  "kernelspec": {
   "display_name": "Python 3 (ipykernel)",
   "language": "python",
   "name": "python3"
  },
  "language_info": {
   "codemirror_mode": {
    "name": "ipython",
    "version": 3
   },
   "file_extension": ".py",
   "mimetype": "text/x-python",
   "name": "python",
   "nbconvert_exporter": "python",
   "pygments_lexer": "ipython3",
   "version": "3.11.5"
  }
 },
 "nbformat": 4,
 "nbformat_minor": 5
}
