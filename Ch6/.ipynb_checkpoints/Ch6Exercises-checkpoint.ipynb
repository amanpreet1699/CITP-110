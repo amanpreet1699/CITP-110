{
 "cells": [
  {
   "cell_type": "markdown",
   "id": "5d1b831e",
   "metadata": {},
   "source": [
    "# Starting Out With Python 5th Edition\n",
    "# Algorithm Workbench"
   ]
  },
  {
   "cell_type": "markdown",
   "id": "6b97c0b9",
   "metadata": {},
   "source": [
    "1. Write a program that opens an output file with the filename my_name.txt, writes your\n",
    "name to the file, then closes the file.\n",
    "\n"
   ]
  },
  {
   "cell_type": "code",
   "execution_count": 2,
   "id": "fd53965b",
   "metadata": {},
   "outputs": [],
   "source": [
    "# Assuming the file is in the same location as this file\n",
    "#Writing the open function\n",
    "# Had an error and realized I needed to put apostrophes around w\n",
    "# Defining a function to open the file, write name, and then close it\n",
    "def myNameWrite():\n",
    "    nameWrite = open('my_name.txt','w')\n",
    "\n",
    "    # Writing my name to the file\n",
    "    nameWrite.write('Amanpreet ')\n",
    "    nameWrite.write('Kaur')\n",
    "\n",
    "    # Closing the file\n",
    "    nameWrite.close()\n",
    "\n",
    "# Calling the function to run it\n",
    "myNameWrite()\n",
    "# Very cool that this created the file too!!\n"
   ]
  },
  {
   "cell_type": "markdown",
   "id": "c59e0736",
   "metadata": {},
   "source": [
    "2. Write a program that opens the my_name.txt file that was created by the program\n",
    "in problem 1, reads your name from the file, displays the name on the screen, then\n",
    "closes the file."
   ]
  },
  {
   "cell_type": "code",
   "execution_count": 3,
   "id": "9bb14bec",
   "metadata": {},
   "outputs": [
    {
     "name": "stdout",
     "output_type": "stream",
     "text": [
      "Amanpreet Kaur\n"
     ]
    }
   ],
   "source": [
    "# Defining the main function to open file, read the content, and close the file. Then print the content that was read\n",
    "def myNameRead():\n",
    "    # Function to open file as read only\n",
    "    nameRead = open('my_name.txt','r')\n",
    "    \n",
    "    # Function to store what is read in the variable nameContent\n",
    "    nameContent = nameRead.read()\n",
    "    \n",
    "    # Function to close nameRead file\n",
    "    nameRead.close()\n",
    "    \n",
    "    # Prints the variable nameContent\n",
    "    print(nameContent)\n",
    "\n",
    "# To call the function so it runs\n",
    "myNameRead() \n",
    "    "
   ]
  },
  {
   "cell_type": "markdown",
   "id": "b0dfb911",
   "metadata": {},
   "source": [
    "# Programming Exercises"
   ]
  },
  {
   "cell_type": "markdown",
   "id": "0858590f",
   "metadata": {},
   "source": [
    "1. File Display\n",
    "\n",
    "Assume a file containing a series of integers is named numbers.txt and exists on the computer’s\n",
    "disk. Write a program that displays all of the numbers in the file."
   ]
  },
  {
   "cell_type": "code",
   "execution_count": 4,
   "id": "a9479cc7",
   "metadata": {},
   "outputs": [
    {
     "name": "stdout",
     "output_type": "stream",
     "text": [
      "15\n",
      "26\n",
      "32\n"
     ]
    }
   ],
   "source": [
    "# Define function\n",
    "def numbersRead():\n",
    "    # Variable to open file as read\n",
    "    numberContent = open('numbers.txt','r')\n",
    "    # Read the content of the file\n",
    "    numbersFile = numberContent.read()\n",
    "    # Closing the file\n",
    "    numberContent.close()\n",
    "    # Print the results\n",
    "    print(numbersFile)\n",
    "\n",
    "# Calling the function so it runs\n",
    "numbersRead()\n",
    "\n",
    "# I made a file with numbers in it to test this\n"
   ]
  },
  {
   "cell_type": "markdown",
   "id": "c0ad5adc",
   "metadata": {},
   "source": [
    "6. Average of Numbers\n",
    "\n",
    "Assume a file containing a series of integers is named numbers.txt and exists on the\n",
    "computer’s disk. Write a program that calculates the average of all the numbers stored in\n",
    "the file."
   ]
  },
  {
   "cell_type": "code",
   "execution_count": 5,
   "id": "afa384e5",
   "metadata": {},
   "outputs": [
    {
     "name": "stdout",
     "output_type": "stream",
     "text": [
      "24.333333333333332\n"
     ]
    }
   ],
   "source": [
    "def averageNumber():\n",
    "    \n",
    "    numberFile = open('numbers.txt','r')\n",
    "    \n",
    "    numbersContent = numberFile.readline()\n",
    "    \n",
    "    runningTotal = 0\n",
    "    iterationNumber = 0\n",
    "    while numbersContent != '':\n",
    "        intNumber = int(numbersContent)\n",
    "        runningTotal += intNumber\n",
    "        iterationNumber += 1\n",
    "        \n",
    "        \n",
    "        \n",
    "\n"
   ]
  },
  {
   "cell_type": "markdown",
   "id": "d7a38f31",
   "metadata": {},
   "source": [
    "9. Exception Handing\n",
    "\n",
    "Modify the program that you wrote for Exercise 6 so it handles the following exceptions:\n",
    "\n",
    "• It should handle any IOError exceptions that are raised when the file is opened and data\n",
    "is read from it.\n",
    "\n",
    "• It should handle any ValueError exceptions that are raised when the items that are read\n",
    "from the file are converted to a number."
   ]
  },
  {
   "cell_type": "code",
   "execution_count": null,
   "id": "9760dbaf",
   "metadata": {},
   "outputs": [],
   "source": []
  },
  {
   "cell_type": "code",
   "execution_count": null,
   "id": "7c48ed35",
   "metadata": {},
   "outputs": [],
   "source": []
  }
 ],
 "metadata": {
  "kernelspec": {
   "display_name": "Python 3 (ipykernel)",
   "language": "python",
   "name": "python3"
  },
  "language_info": {
   "codemirror_mode": {
    "name": "ipython",
    "version": 3
   },
   "file_extension": ".py",
   "mimetype": "text/x-python",
   "name": "python",
   "nbconvert_exporter": "python",
   "pygments_lexer": "ipython3",
   "version": "3.11.5"
  }
 },
 "nbformat": 4,
 "nbformat_minor": 5
}
