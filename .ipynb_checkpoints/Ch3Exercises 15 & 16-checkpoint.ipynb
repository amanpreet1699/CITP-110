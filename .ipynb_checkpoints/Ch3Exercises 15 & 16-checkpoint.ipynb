{
 "cells": [
  {
   "cell_type": "markdown",
   "id": "db59fd98",
   "metadata": {},
   "source": [
    "## Programming Exercise 15\n",
    "\n",
    "#I had to continue the problem in another file because my code wouldn't work in the other sheet when I would press shift+enter\n",
    "\n",
    "Time Calculator\n",
    "\n",
    "Write a program that asks the user to enter a number of seconds and works as follows:\n",
    "\n",
    "• There are 60 seconds in a minute. If the number of seconds entered by the user is greater\n",
    "than or equal to 60, the program should convert the number of seconds to minutes and\n",
    "seconds.\n",
    "\n",
    "• There are 3,600 seconds in an hour. If the number of seconds entered by the user is\n",
    "greater than or equal to 3,600, the program should convert the number of seconds to\n",
    "hours, minutes, and seconds.\n",
    "\n",
    "• There are 86,400 seconds in a day. If the number of seconds entered by the user is\n",
    "greater than or equal to 86,400, the program should convert the number of seconds to\n",
    "days, hours, minutes, and seconds."
   ]
  },
  {
   "cell_type": "code",
   "execution_count": 2,
   "id": "31a1f9c9",
   "metadata": {},
   "outputs": [
    {
     "name": "stdout",
     "output_type": "stream",
     "text": [
      "Enter amount of seconds 4400\n",
      "That is 1 hour(s), 13 minute(s), 20 second(s)\n"
     ]
    }
   ],
   "source": [
    "# Getting the response from user for seconds\n",
    "secondsInp = int(input('Enter amount of seconds '))\n",
    "#Writing if statements and using the remainders that remain after dividing to see what we would \n",
    "# use in the corresponding lines. I started with the largest number so the code would start here\n",
    "if secondsInp > 86400:\n",
    "    days = int(secondsInp/86400)\n",
    "    hours = int((secondsInp%86400) / 3600)\n",
    "    minutes = int(((secondsInp%86400)%3600)/60)\n",
    "    seconds = (((secondsInp%86400)%3600)%60)\n",
    "    print(f'That is {days} day(s), {hours} hour(s), {minutes} minute(s), {seconds} second(s)')\n",
    "else:\n",
    "    if secondsInp > 3600:\n",
    "        hours = int(secondsInp/3600)\n",
    "        minutes = int((secondsInp%3600)/60)\n",
    "        seconds = ((secondsInp%3600)%60)\n",
    "        print(f'That is {hours} hour(s), {minutes} minute(s), {seconds} second(s)')"
   ]
  },
  {
   "cell_type": "code",
   "execution_count": null,
   "id": "5df392ac",
   "metadata": {},
   "outputs": [],
   "source": []
  }
 ],
 "metadata": {
  "kernelspec": {
   "display_name": "Python 3 (ipykernel)",
   "language": "python",
   "name": "python3"
  },
  "language_info": {
   "codemirror_mode": {
    "name": "ipython",
    "version": 3
   },
   "file_extension": ".py",
   "mimetype": "text/x-python",
   "name": "python",
   "nbconvert_exporter": "python",
   "pygments_lexer": "ipython3",
   "version": "3.11.5"
  }
 },
 "nbformat": 4,
 "nbformat_minor": 5
}
