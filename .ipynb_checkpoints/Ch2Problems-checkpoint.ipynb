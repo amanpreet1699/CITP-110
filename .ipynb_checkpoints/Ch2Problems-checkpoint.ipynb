{
 "cells": [
  {
   "cell_type": "markdown",
   "id": "02cc4d4b",
   "metadata": {},
   "source": [
    "# Week 2 Code Set 2"
   ]
  },
  {
   "cell_type": "markdown",
   "id": "ec72bd9a",
   "metadata": {},
   "source": [
    "## Algorithm Workbench # 5\n",
    "Write a Python statement that assigns the sum of 10 and 14 to the variable total."
   ]
  },
  {
   "cell_type": "code",
   "execution_count": 2,
   "id": "77b07ab1",
   "metadata": {},
   "outputs": [
    {
     "name": "stdout",
     "output_type": "stream",
     "text": [
      "24\n"
     ]
    }
   ],
   "source": [
    "# Writing a Python Statement that assigns the sum of 10 and 14 to the variable \"total\". \n",
    "total = 10 + 14;\n",
    "# Then using the print command to see the total\n",
    "print(total)"
   ]
  },
  {
   "cell_type": "markdown",
   "id": "4c89d2d6",
   "metadata": {},
   "source": [
    "## Programming Exercises # 2\n",
    "A company has determined that its annual profit is typically 23 percent of total sales. Write\n",
    "a program that asks the user to enter the projected amount of total sales, then displays the\n",
    "profit that will be made from that amount."
   ]
  },
  {
   "cell_type": "code",
   "execution_count": 4,
   "id": "608c3b98",
   "metadata": {},
   "outputs": [
    {
     "name": "stdout",
     "output_type": "stream",
     "text": [
      "What is the Projected Amount of Total Sales? 150\n"
     ]
    }
   ],
   "source": [
    "# Using the input function to request user to enter the projected amount of total sales and \n",
    "# putting the result into totalSales variable\n",
    "totalSales = input('What is the Projected Amount of Total Sales? ')\n"
   ]
  },
  {
   "cell_type": "code",
   "execution_count": null,
   "id": "d78c9811",
   "metadata": {},
   "outputs": [],
   "source": [
    "# Converting string to floating for totalSales\n"
   ]
  }
 ],
 "metadata": {
  "kernelspec": {
   "display_name": "Python 3 (ipykernel)",
   "language": "python",
   "name": "python3"
  },
  "language_info": {
   "codemirror_mode": {
    "name": "ipython",
    "version": 3
   },
   "file_extension": ".py",
   "mimetype": "text/x-python",
   "name": "python",
   "nbconvert_exporter": "python",
   "pygments_lexer": "ipython3",
   "version": "3.11.5"
  }
 },
 "nbformat": 4,
 "nbformat_minor": 5
}
