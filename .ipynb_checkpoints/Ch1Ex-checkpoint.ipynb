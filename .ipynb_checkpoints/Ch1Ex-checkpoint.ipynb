{
 "cells": [
  {
   "cell_type": "markdown",
   "id": "4db46c66-b323-43df-bc86-23819411219c",
   "metadata": {
    "tags": []
   },
   "source": [
    "# Week 1 Code Set 1\n",
    "Problems 1, 3, 4"
   ]
  },
  {
   "cell_type": "markdown",
   "id": "b3857342-1ec2-4b23-b2b7-1c6e783f1a12",
   "metadata": {},
   "source": [
    "## Ex1\n",
    "The textbook asks us to use the python print statement"
   ]
  },
  {
   "cell_type": "code",
   "execution_count": 2,
   "id": "82eada9f-7308-4381-8315-03abeb69f022",
   "metadata": {
    "tags": []
   },
   "outputs": [
    {
     "name": "stdout",
     "output_type": "stream",
     "text": [
      "This is a test of the Python interpreter.\n"
     ]
    }
   ],
   "source": [
    "# demonstrating the print function\n",
    "print('This is a test of the Python interpreter.')"
   ]
  },
  {
   "cell_type": "code",
   "execution_count": 3,
   "id": "e0485302-42f4-44e2-bf35-4745fcd9e190",
   "metadata": {
    "tags": []
   },
   "outputs": [
    {
     "ename": "SyntaxError",
     "evalue": "invalid syntax. Perhaps you forgot a comma? (3911312501.py, line 1)",
     "output_type": "error",
     "traceback": [
      "\u001b[1;36m  Cell \u001b[1;32mIn[3], line 1\u001b[1;36m\u001b[0m\n\u001b[1;33m    print(This is a test without quotations)\u001b[0m\n\u001b[1;37m          ^\u001b[0m\n\u001b[1;31mSyntaxError\u001b[0m\u001b[1;31m:\u001b[0m invalid syntax. Perhaps you forgot a comma?\n"
     ]
    }
   ],
   "source": [
    "print(This is a test without quotations)"
   ]
  },
  {
   "cell_type": "code",
   "execution_count": 4,
   "id": "3bd9d992-0807-4c9c-a536-a3a6b3acd9a1",
   "metadata": {
    "tags": []
   },
   "outputs": [
    {
     "name": "stdout",
     "output_type": "stream",
     "text": [
      "This is a test with double quotationsand additions\n"
     ]
    }
   ],
   "source": [
    "print(\"This is a test with double quotations\" + \"and additions\")"
   ]
  },
  {
   "cell_type": "markdown",
   "id": "d4a233f7-2cc5-43fc-8178-c50d01b2c395",
   "metadata": {},
   "source": [
    "Interestingly, it does add together quotations but I will need to remember to put spaces in between. "
   ]
  },
  {
   "cell_type": "code",
   "execution_count": 5,
   "id": "3f266b73-b68a-4c83-9fc0-92da96f8170f",
   "metadata": {
    "tags": []
   },
   "outputs": [
    {
     "name": "stdout",
     "output_type": "stream",
     "text": [
      "My favorite cat is a tiger\n"
     ]
    }
   ],
   "source": [
    "print(\"My favorite cat is a tiger\")"
   ]
  },
  {
   "cell_type": "markdown",
   "id": "6527c88a-120d-47eb-8c98-4b053f56737a",
   "metadata": {},
   "source": []
  }
 ],
 "metadata": {
  "kernelspec": {
   "display_name": "Python 3 (ipykernel)",
   "language": "python",
   "name": "python3"
  },
  "language_info": {
   "codemirror_mode": {
    "name": "ipython",
    "version": 3
   },
   "file_extension": ".py",
   "mimetype": "text/x-python",
   "name": "python",
   "nbconvert_exporter": "python",
   "pygments_lexer": "ipython3",
   "version": "3.11.5"
  }
 },
 "nbformat": 4,
 "nbformat_minor": 5
}
