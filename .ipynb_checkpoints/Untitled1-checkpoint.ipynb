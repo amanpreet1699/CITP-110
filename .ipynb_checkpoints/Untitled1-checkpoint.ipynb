{
 "cells": [
  {
   "cell_type": "markdown",
   "id": "1295b7dd",
   "metadata": {},
   "source": [
    "# Starting Out With Python 5th Edition\n",
    "# Algorithm Workbench\n",
    "1. Write a while loop that lets the user enter a number. The number should be multiplied\n",
    "by 10, and the result assigned to a variable named product. The loop should iterate as\n",
    "long as product is less than 100."
   ]
  },
  {
   "cell_type": "code",
   "execution_count": 2,
   "id": "c5a5817d",
   "metadata": {},
   "outputs": [
    {
     "name": "stdout",
     "output_type": "stream",
     "text": [
      "Enter a number 1\n",
      "10\n",
      "100\n"
     ]
    }
   ],
   "source": [
    "#Writing the while loop for product under 100 and taking the inputs from user\n",
    "#Getting the input outside of the loop\n",
    "product = int(input('Enter a number '))\n",
    "\n",
    "while product < 100 :\n",
    "    product = product * 10\n",
    "    print(product)"
   ]
  },
  {
   "cell_type": "markdown",
   "id": "29e7e455",
   "metadata": {},
   "source": []
  }
 ],
 "metadata": {
  "kernelspec": {
   "display_name": "Python 3 (ipykernel)",
   "language": "python",
   "name": "python3"
  },
  "language_info": {
   "codemirror_mode": {
    "name": "ipython",
    "version": 3
   },
   "file_extension": ".py",
   "mimetype": "text/x-python",
   "name": "python",
   "nbconvert_exporter": "python",
   "pygments_lexer": "ipython3",
   "version": "3.11.5"
  }
 },
 "nbformat": 4,
 "nbformat_minor": 5
}
