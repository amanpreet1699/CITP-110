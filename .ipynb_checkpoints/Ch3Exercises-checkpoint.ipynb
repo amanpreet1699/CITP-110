{
 "cells": [
  {
   "cell_type": "markdown",
   "id": "58f7be62",
   "metadata": {},
   "source": [
    "# Week Set Code Set 3\n",
    "\n",
    "# For Starting Out With Python 5th Edition"
   ]
  },
  {
   "cell_type": "markdown",
   "id": "e7e83ad8",
   "metadata": {},
   "source": [
    "## Algorithm Workbench # 4\n",
    "The following code contains several nested if-else statements. Unfortunately, it\n",
    "was written without proper alignment and indentation. Rewrite the code and use the\n",
    "proper conventions of alignment and indentation.\n",
    "\n",
    "if score >= A_score:\n",
    "\n",
    "print('Your grade is A.')\n",
    "\n",
    "else:\n",
    "\n",
    "if score >= B_score:\n",
    "\n",
    "print('Your grade is B.')\n",
    "\n",
    "else:\n",
    "\n",
    "if score >= C_score:\n",
    "\n",
    "print('Your grade is C.')\n",
    "\n",
    "else:\n",
    "\n",
    "if score >= D_score:\n",
    "\n",
    "print('Your grade is D.')\n",
    "\n",
    "else:\n",
    "\n",
    "print('Your grade is F.')"
   ]
  },
  {
   "cell_type": "code",
   "execution_count": 6,
   "id": "b3a78e23",
   "metadata": {},
   "outputs": [
    {
     "ename": "NameError",
     "evalue": "name 'score' is not defined",
     "output_type": "error",
     "traceback": [
      "\u001b[1;31m---------------------------------------------------------------------------\u001b[0m",
      "\u001b[1;31mNameError\u001b[0m                                 Traceback (most recent call last)",
      "Cell \u001b[1;32mIn[6], line 2\u001b[0m\n\u001b[0;32m      1\u001b[0m \u001b[38;5;66;03m# Re-writted code with proper indentation. Gives me an error if I run it because variables aren't defined\u001b[39;00m\n\u001b[1;32m----> 2\u001b[0m \u001b[38;5;28;01mif\u001b[39;00m score \u001b[38;5;241m>\u001b[39m\u001b[38;5;241m=\u001b[39m A_score:\n\u001b[0;32m      3\u001b[0m     \u001b[38;5;28mprint\u001b[39m(\u001b[38;5;124m'\u001b[39m\u001b[38;5;124mYour grade is A.\u001b[39m\u001b[38;5;124m'\u001b[39m)\n\u001b[0;32m      4\u001b[0m \u001b[38;5;28;01melse\u001b[39;00m:\n",
      "\u001b[1;31mNameError\u001b[0m: name 'score' is not defined"
     ]
    }
   ],
   "source": [
    "# Re-writted code with proper indentation. Gives me an error if I run it because variables aren't defined\n",
    "if score >= A_score:\n",
    "    print('Your grade is A.')\n",
    "else:\n",
    "    if score >= B_score:\n",
    "        print('Your grade is B.')\n",
    "    else:\n",
    "        if score >= C_score:\n",
    "            print('Your grade is C.')\n",
    "        else:\n",
    "            if score >= D_score:\n",
    "                print('Your grade is D.')\n",
    "            else:\n",
    "                print('Your grade is F.')"
   ]
  },
  {
   "cell_type": "markdown",
   "id": "56e51ac3",
   "metadata": {},
   "source": [
    "## Algorithm Workbench # 5\n",
    "Write nested decision structures that perform the following: If amount1 is greater than\n",
    "10 and amount2 is less than 100, display the greater of amount1 and amount2."
   ]
  },
  {
   "cell_type": "code",
   "execution_count": 9,
   "id": "14409a51",
   "metadata": {},
   "outputs": [
    {
     "ename": "NameError",
     "evalue": "name 'amount1' is not defined",
     "output_type": "error",
     "traceback": [
      "\u001b[1;31m---------------------------------------------------------------------------\u001b[0m",
      "\u001b[1;31mNameError\u001b[0m                                 Traceback (most recent call last)",
      "Cell \u001b[1;32mIn[9], line 3\u001b[0m\n\u001b[0;32m      1\u001b[0m \u001b[38;5;66;03m# Writing the proper indentation form for the problem with if else statement. \u001b[39;00m\n\u001b[0;32m      2\u001b[0m \u001b[38;5;66;03m# Gives error because the variables aren't defined\u001b[39;00m\n\u001b[1;32m----> 3\u001b[0m \u001b[38;5;28;01mif\u001b[39;00m (amount1 \u001b[38;5;241m>\u001b[39m \u001b[38;5;241m10\u001b[39m) \u001b[38;5;129;01mand\u001b[39;00m (amount2 \u001b[38;5;241m<\u001b[39m\u001b[38;5;241m100\u001b[39m) :\n\u001b[0;32m      4\u001b[0m     \u001b[38;5;28;01mif\u001b[39;00m amount1 \u001b[38;5;241m>\u001b[39m amount2:\n\u001b[0;32m      5\u001b[0m         \u001b[38;5;28mprint\u001b[39m(\u001b[38;5;124mf\u001b[39m\u001b[38;5;124m'\u001b[39m\u001b[38;5;132;01m{\u001b[39;00mamount1\u001b[38;5;132;01m}\u001b[39;00m\u001b[38;5;124m'\u001b[39m)\n",
      "\u001b[1;31mNameError\u001b[0m: name 'amount1' is not defined"
     ]
    }
   ],
   "source": [
    "# Writing the proper indentation form for the problem with if else statement. \n",
    "# Gives error because the variables aren't defined\n",
    "if (amount1 > 10) and (amount2 <100) :\n",
    "    if amount1 > amount2:\n",
    "        print(f'{amount1}')\n",
    "    else:\n",
    "        print(f'{amount2}')    "
   ]
  },
  {
   "cell_type": "markdown",
   "id": "0f7f4c54",
   "metadata": {},
   "source": [
    "## Programming Exercise 1\n",
    "\n",
    "Day of the Week\n",
    "Write a program that asks the user for a number in the range of 1 through 7. The program\n",
    "should display the corresponding day of the week, where 1 = Monday, 2 = Tuesday,\n",
    "3 = Wednesday, 4 = Thursday, 5 = Friday, 6 = Saturday, and 7 = Sunday. The program should\n",
    "display an error message if the user enters a number that is outside the range of 1 through 7."
   ]
  },
  {
   "cell_type": "code",
   "execution_count": 14,
   "id": "ab9a948b",
   "metadata": {},
   "outputs": [
    {
     "name": "stdout",
     "output_type": "stream",
     "text": [
      "Enter a number from 1-7 9\n",
      "error\n"
     ]
    }
   ],
   "source": [
    "# Getting input from user on the number they choose from 1-7 with int to convert string to integer\n",
    "dayEntered = int(input('Enter a number from 1-7 '))\n",
    "\n",
    "# If else statement for the days entered\n",
    "if dayEntered == 1:\n",
    "    print('Monday')\n",
    "else:\n",
    "    if dayEntered ==2:\n",
    "        print('Tuesday')\n",
    "    else:\n",
    "        if dayEntered == 3:\n",
    "            print('Wednesday')\n",
    "        else:\n",
    "            if dayEntered == 4:\n",
    "                print('Thursday')\n",
    "            else:\n",
    "                if dayEntered == 5:\n",
    "                    print('Friday')\n",
    "                else:\n",
    "                    if dayEntered == 6:\n",
    "                        print('Saturday')\n",
    "                    else:\n",
    "                        if dayEntered == 7:\n",
    "                            print('Sunday')\n",
    "                        else: # This 'else' is if someone enters anything other that 1-7\n",
    "                            print('error')\n",
    "    "
   ]
  },
  {
   "cell_type": "markdown",
   "id": "ad47ab72",
   "metadata": {},
   "source": [
    "## Programming Exercise 5\n",
    "Mass and Weight\n",
    "\n",
    "Scientists measure an object’s mass in kilograms and its weight in newtons. If you know\n",
    "the amount of mass of an object in kilograms, you can calculate its weight in newtons with\n",
    "the following formula:\n",
    "weight 5 mass 3 9.8\n",
    "Write a program that asks the user to enter an object’s mass, then calculates its weight. If\n",
    "the object weighs more than 500 newtons, display a message indicating that it is too heavy.\n",
    "If the object weighs less than 100 newtons, display a message indicating that it is too light.\n"
   ]
  },
  {
   "cell_type": "code",
   "execution_count": null,
   "id": "334405ec",
   "metadata": {},
   "outputs": [],
   "source": [
    "# Getting the input from user for kg with int to convert string to integer\n",
    "convWeight = int(input('Enter the mass(kg) of the object you want to convert to weight(N) '))\n"
   ]
  }
 ],
 "metadata": {
  "kernelspec": {
   "display_name": "Python 3 (ipykernel)",
   "language": "python",
   "name": "python3"
  },
  "language_info": {
   "codemirror_mode": {
    "name": "ipython",
    "version": 3
   },
   "file_extension": ".py",
   "mimetype": "text/x-python",
   "name": "python",
   "nbconvert_exporter": "python",
   "pygments_lexer": "ipython3",
   "version": "3.11.5"
  }
 },
 "nbformat": 4,
 "nbformat_minor": 5
}
