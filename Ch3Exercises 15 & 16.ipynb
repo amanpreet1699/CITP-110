{
 "cells": [
  {
   "cell_type": "markdown",
   "id": "6228dbd0",
   "metadata": {},
   "source": [
    "## Programming Exercise 15\n",
    "\n",
    "#I had to continue the problem in another file because my code wouldn't work in the other sheet when I would press shift+enter\n",
    "\n",
    "Time Calculator\n",
    "\n",
    "Write a program that asks the user to enter a number of seconds and works as follows:\n",
    "\n",
    "• There are 60 seconds in a minute. If the number of seconds entered by the user is greater\n",
    "than or equal to 60, the program should convert the number of seconds to minutes and\n",
    "seconds.\n",
    "\n",
    "• There are 3,600 seconds in an hour. If the number of seconds entered by the user is\n",
    "greater than or equal to 3,600, the program should convert the number of seconds to\n",
    "hours, minutes, and seconds.\n",
    "\n",
    "• There are 86,400 seconds in a day. If the number of seconds entered by the user is\n",
    "greater than or equal to 86,400, the program should convert the number of seconds to\n",
    "days, hours, minutes, and seconds."
   ]
  },
  {
   "cell_type": "code",
   "execution_count": 7,
   "id": "9a337fd8",
   "metadata": {},
   "outputs": [
    {
     "name": "stdout",
     "output_type": "stream",
     "text": [
      "Enter amount of seconds 40\n",
      "That is 40 second(s)\n"
     ]
    }
   ],
   "source": [
    "# Getting the response from user for seconds\n",
    "secondsInp = int(input('Enter amount of seconds '))\n",
    "#Writing if statements and using the remainders that remain after dividing to see what we would \n",
    "# use in the corresponding lines. I started with the largest number so the code would start here\n",
    "if secondsInp > 86400:\n",
    "    days = int(secondsInp/86400)\n",
    "    hours = int((secondsInp%86400) / 3600)\n",
    "    minutes = int(((secondsInp%86400)%3600)/60)\n",
    "    seconds = (((secondsInp%86400)%3600)%60)\n",
    "    print(f'That is {days} day(s), {hours} hour(s), {minutes} minute(s), {seconds} second(s)')\n",
    "else:\n",
    "    if secondsInp > 3600:\n",
    "        hours = int(secondsInp/3600)\n",
    "        minutes = int((secondsInp%3600)/60)\n",
    "        seconds = ((secondsInp%3600)%60)\n",
    "        print(f'That is {hours} hour(s), {minutes} minute(s), {seconds} second(s)')\n",
    "    else:\n",
    "        if secondsInp > 60:\n",
    "            minutes = int(secondsInp/60)\n",
    "            seconds = (secondsInp%60)\n",
    "            print(f'That is {minutes} minute(s), {seconds} second(s)')\n",
    "        else:\n",
    "            if secondsInp < 60: # This is in case we get a number smaller than 60\n",
    "                print(f'That is {secondsInp} second(s)')\n"
   ]
  },
  {
   "cell_type": "markdown",
   "id": "48629745",
   "metadata": {},
   "source": [
    "## Programming Exercise 16\n",
    "\n",
    "February Days\n",
    "\n",
    "The month of February normally has 28 days. But if it is a leap year, February has 29 days.\n",
    "Write a program that asks the user to enter a year. The program should then display the\n",
    "number of days in February that year. Use the following criteria to identify leap years:\n",
    "\n",
    "1. Determine whether the year is divisible by 100. If it is, then it is a leap year if and only\n",
    "if it is also divisible by 400. For example, 2000 is a leap year, but 2100 is not.\n",
    "\n",
    "2. If the year is not divisible by 100, then it is a leap year if and only if it is divisible by 4.\n",
    "For example, 2008 is a leap year, but 2009 is not.\n",
    "\n",
    "Here is a sample run of the program:\n",
    "\n",
    "Enter a year: 2008 Enter\n",
    "\n",
    "In 2008 February has 29 days."
   ]
  },
  {
   "cell_type": "code",
   "execution_count": null,
   "id": "511dc335",
   "metadata": {},
   "outputs": [],
   "source": [
    "yearInp = int(input(Enter a year: ))\n"
   ]
  }
 ],
 "metadata": {
  "kernelspec": {
   "display_name": "Python 3 (ipykernel)",
   "language": "python",
   "name": "python3"
  },
  "language_info": {
   "codemirror_mode": {
    "name": "ipython",
    "version": 3
   },
   "file_extension": ".py",
   "mimetype": "text/x-python",
   "name": "python",
   "nbconvert_exporter": "python",
   "pygments_lexer": "ipython3",
   "version": "3.11.5"
  }
 },
 "nbformat": 4,
 "nbformat_minor": 5
}
